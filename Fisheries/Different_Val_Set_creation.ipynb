{
 "cells": [
  {
   "cell_type": "markdown",
   "metadata": {
    "deletable": true,
    "editable": true
   },
   "source": [
    "### Initial"
   ]
  },
  {
   "cell_type": "code",
   "execution_count": 1,
   "metadata": {
    "collapsed": false,
    "deletable": true,
    "editable": true
   },
   "outputs": [
    {
     "name": "stderr",
     "output_type": "stream",
     "text": [
      "WARNING (theano.sandbox.cuda): The cuda backend is deprecated and will be removed in the next release (v0.10).  Please switch to the gpuarray backend. You can get more information about how to switch at this URL:\n",
      " https://github.com/Theano/Theano/wiki/Converting-to-the-new-gpu-back-end%28gpuarray%29\n",
      "\n",
      "Using gpu device 0: Tesla K80 (CNMeM is disabled, cuDNN 5103)\n"
     ]
    }
   ],
   "source": [
    "from theano.sandbox import cuda"
   ]
  },
  {
   "cell_type": "code",
   "execution_count": 2,
   "metadata": {
    "collapsed": false,
    "deletable": true,
    "editable": true
   },
   "outputs": [
    {
     "name": "stderr",
     "output_type": "stream",
     "text": [
      "Using Theano backend.\n"
     ]
    }
   ],
   "source": [
    "%matplotlib inline\n",
    "import utils; reload(utils)\n",
    "from utils import *\n",
    "from __future__ import division, print_function"
   ]
  },
  {
   "cell_type": "code",
   "execution_count": 3,
   "metadata": {
    "collapsed": true,
    "deletable": true,
    "editable": true
   },
   "outputs": [],
   "source": [
    "path = \"data/fish/\"\n",
    "batch_size=64"
   ]
  },
  {
   "cell_type": "code",
   "execution_count": 4,
   "metadata": {
    "collapsed": true,
    "deletable": true,
    "editable": true
   },
   "outputs": [],
   "source": [
    "homeDir = os.getcwd()\n",
    "dataHome = homeDir + \"/data/fish/\"\n",
    "dataDir = homeDir + \"/data/fish/\"\n",
    "train_path = dataDir + \"train/\"\n",
    "valid_path = dataDir + \"valid/\"\n",
    "model_path = dataDir + \"models/\"\n",
    "test_path = dataHome + \"test/\"\n",
    "results_path = dataDir + \"results/\""
   ]
  },
  {
   "cell_type": "markdown",
   "metadata": {
    "deletable": true,
    "editable": true,
    "heading_collapsed": true
   },
   "source": [
    "### Making validation set"
   ]
  },
  {
   "cell_type": "code",
   "execution_count": 4,
   "metadata": {
    "collapsed": false,
    "deletable": true,
    "editable": true,
    "hidden": true
   },
   "outputs": [
    {
     "name": "stdout",
     "output_type": "stream",
     "text": [
      "/home/ubuntu/KaggleCompetitions/Fisheries/data/fish\n",
      "/home/ubuntu/KaggleCompetitions/Fisheries/data/fish/train\n"
     ]
    }
   ],
   "source": [
    "%cd data/fish\n",
    "%cd train\n",
    "%mkdir ../valid"
   ]
  },
  {
   "cell_type": "code",
   "execution_count": 6,
   "metadata": {
    "collapsed": false,
    "deletable": true,
    "editable": true,
    "hidden": true
   },
   "outputs": [],
   "source": [
    "g = glob('*')\n",
    "for d in g: os.mkdir('../valid/'+d)"
   ]
  },
  {
   "cell_type": "code",
   "execution_count": 10,
   "metadata": {
    "collapsed": true,
    "deletable": true,
    "editable": true,
    "hidden": true
   },
   "outputs": [],
   "source": [
    "g = glob('*/*.jpg')\n",
    "shuf = np.random.permutation(g)\n",
    "for i in range(500):\n",
    "    os.rename(shuf[i], '../valid/'+ shuf[i])"
   ]
  },
  {
   "cell_type": "markdown",
   "metadata": {
    "deletable": true,
    "editable": true,
    "heading_collapsed": true
   },
   "source": [
    "### Setting up the model"
   ]
  },
  {
   "cell_type": "code",
   "execution_count": 5,
   "metadata": {
    "collapsed": false,
    "deletable": true,
    "editable": true,
    "hidden": true
   },
   "outputs": [
    {
     "name": "stdout",
     "output_type": "stream",
     "text": [
      "Found 3277 images belonging to 8 classes.\n",
      "Found 500 images belonging to 8 classes.\n",
      "Found 3277 images belonging to 8 classes.\n",
      "Found 500 images belonging to 8 classes.\n",
      "Found 1000 images belonging to 1 classes.\n"
     ]
    }
   ],
   "source": [
    "batches = get_batches(path+'train', batch_size=batch_size)\n",
    "val_batches = get_batches(path+'valid', batch_size=batch_size*2, shuffle=False)\n",
    "\n",
    "(val_classes, trn_classes, val_labels, trn_labels, \n",
    "    val_filenames, filenames, test_filenames) = get_classes(path)"
   ]
  },
  {
   "cell_type": "code",
   "execution_count": 6,
   "metadata": {
    "collapsed": true,
    "deletable": true,
    "editable": true,
    "hidden": true
   },
   "outputs": [],
   "source": [
    "raw_filenames = [f.split('/')[-1] for f in filenames]\n",
    "raw_test_filenames = [f.split('/')[-1] for f in test_filenames]\n",
    "raw_val_filenames = [f.split('/')[-1] for f in val_filenames]"
   ]
  },
  {
   "cell_type": "code",
   "execution_count": 7,
   "metadata": {
    "collapsed": true,
    "deletable": true,
    "editable": true,
    "hidden": true
   },
   "outputs": [],
   "source": [
    "from vgg16bn import Vgg16BN\n",
    "model = vgg_ft_bn(8)"
   ]
  },
  {
   "cell_type": "code",
   "execution_count": 6,
   "metadata": {
    "collapsed": false,
    "deletable": true,
    "editable": true,
    "hidden": true
   },
   "outputs": [
    {
     "name": "stdout",
     "output_type": "stream",
     "text": [
      "Found 3277 images belonging to 8 classes.\n",
      "Found 500 images belonging to 8 classes.\n"
     ]
    }
   ],
   "source": [
    "trn = get_data(path+'train')\n",
    "val = get_data(path+'valid')"
   ]
  },
  {
   "cell_type": "code",
   "execution_count": 7,
   "metadata": {
    "collapsed": false,
    "deletable": true,
    "editable": true,
    "hidden": true
   },
   "outputs": [
    {
     "name": "stdout",
     "output_type": "stream",
     "text": [
      "Found 1000 images belonging to 1 classes.\n"
     ]
    }
   ],
   "source": [
    "test = get_data(path+'test')"
   ]
  },
  {
   "cell_type": "code",
   "execution_count": 9,
   "metadata": {
    "collapsed": false,
    "deletable": true,
    "editable": true,
    "hidden": true
   },
   "outputs": [],
   "source": [
    "save_array(path+'results/trn.dat', trn)\n",
    "save_array(path+'results/val.dat', val)"
   ]
  },
  {
   "cell_type": "code",
   "execution_count": 10,
   "metadata": {
    "collapsed": true,
    "deletable": true,
    "editable": true,
    "hidden": true
   },
   "outputs": [],
   "source": [
    "save_array(path+'results/test.dat', test)"
   ]
  },
  {
   "cell_type": "code",
   "execution_count": 8,
   "metadata": {
    "collapsed": true,
    "deletable": true,
    "editable": true,
    "hidden": true
   },
   "outputs": [],
   "source": [
    "trn = load_array(path+'results/trn.dat')\n",
    "val = load_array(path+'results/val.dat')"
   ]
  },
  {
   "cell_type": "code",
   "execution_count": 9,
   "metadata": {
    "collapsed": true,
    "deletable": true,
    "editable": true,
    "hidden": true
   },
   "outputs": [],
   "source": [
    "test = load_array(path+'results/test.dat')"
   ]
  },
  {
   "cell_type": "code",
   "execution_count": 14,
   "metadata": {
    "collapsed": true,
    "deletable": true,
    "editable": true,
    "hidden": true
   },
   "outputs": [],
   "source": [
    "model.compile(optimizer=Adam(1e-3),\n",
    "       loss='categorical_crossentropy', metrics=['accuracy'])"
   ]
  },
  {
   "cell_type": "code",
   "execution_count": 15,
   "metadata": {
    "collapsed": false,
    "deletable": true,
    "editable": true,
    "hidden": true
   },
   "outputs": [
    {
     "name": "stderr",
     "output_type": "stream",
     "text": [
      "INFO (theano.gof.compilelock): Refreshing lock /home/ubuntu/.theano/compiledir_Linux-4.4--generic-x86_64-with-debian-stretch-sid-x86_64-2.7.12-64/lock_dir/lock\n"
     ]
    },
    {
     "name": "stdout",
     "output_type": "stream",
     "text": [
      "Train on 3277 samples, validate on 500 samples\n",
      "Epoch 1/5\n",
      "96s - loss: 2.9740 - acc: 0.4779 - val_loss: 1.2119 - val_acc: 0.6860\n",
      "Epoch 2/5\n",
      "98s - loss: 1.6539 - acc: 0.6427 - val_loss: 0.7753 - val_acc: 0.7920\n",
      "Epoch 3/5\n",
      "98s - loss: 1.2755 - acc: 0.7153 - val_loss: 0.5389 - val_acc: 0.8300\n",
      "Epoch 4/5\n",
      "98s - loss: 1.0629 - acc: 0.7577 - val_loss: 0.4657 - val_acc: 0.8660\n",
      "Epoch 5/5\n",
      "99s - loss: 0.9931 - acc: 0.7635 - val_loss: 0.4473 - val_acc: 0.8840\n"
     ]
    },
    {
     "data": {
      "text/plain": [
       "<keras.callbacks.History at 0x7f3ebfc1c6d0>"
      ]
     },
     "execution_count": 15,
     "metadata": {},
     "output_type": "execute_result"
    }
   ],
   "source": [
    "model.fit(trn, trn_labels, batch_size=batch_size, nb_epoch=5, \n",
    "          validation_data=(val, val_labels), verbose=2)"
   ]
  },
  {
   "cell_type": "code",
   "execution_count": 16,
   "metadata": {
    "collapsed": false,
    "deletable": true,
    "editable": true,
    "hidden": true
   },
   "outputs": [
    {
     "name": "stdout",
     "output_type": "stream",
     "text": [
      "Train on 3277 samples, validate on 500 samples\n",
      "Epoch 1/3\n",
      "98s - loss: 0.8339 - acc: 0.7888 - val_loss: 0.3685 - val_acc: 0.9080\n",
      "Epoch 2/3\n",
      "98s - loss: 0.8624 - acc: 0.7888 - val_loss: 0.3385 - val_acc: 0.9100\n",
      "Epoch 3/3\n",
      "98s - loss: 0.8059 - acc: 0.8096 - val_loss: 0.3607 - val_acc: 0.9100\n"
     ]
    },
    {
     "data": {
      "text/plain": [
       "<keras.callbacks.History at 0x7f3ebfc1ccd0>"
      ]
     },
     "execution_count": 16,
     "metadata": {},
     "output_type": "execute_result"
    }
   ],
   "source": [
    "model.fit(trn, trn_labels, batch_size=batch_size, nb_epoch=3, \n",
    "          validation_data=(val, val_labels), verbose=2)"
   ]
  },
  {
   "cell_type": "code",
   "execution_count": 17,
   "metadata": {
    "collapsed": false,
    "deletable": true,
    "editable": true,
    "hidden": true
   },
   "outputs": [
    {
     "name": "stdout",
     "output_type": "stream",
     "text": [
      "Train on 3277 samples, validate on 500 samples\n",
      "Epoch 1/3\n",
      "97s - loss: 0.7463 - acc: 0.8126 - val_loss: 0.3076 - val_acc: 0.9180\n",
      "Epoch 2/3\n",
      "98s - loss: 0.7255 - acc: 0.8135 - val_loss: 0.3518 - val_acc: 0.9020\n",
      "Epoch 3/3\n",
      "98s - loss: 0.6974 - acc: 0.8172 - val_loss: 0.3359 - val_acc: 0.9240\n"
     ]
    },
    {
     "data": {
      "text/plain": [
       "<keras.callbacks.History at 0x7f3ec5992e10>"
      ]
     },
     "execution_count": 17,
     "metadata": {},
     "output_type": "execute_result"
    }
   ],
   "source": [
    "model.fit(trn, trn_labels, batch_size=batch_size, nb_epoch=3, \n",
    "          validation_data=(val, val_labels), verbose=2)"
   ]
  },
  {
   "cell_type": "code",
   "execution_count": 24,
   "metadata": {
    "collapsed": true,
    "deletable": true,
    "editable": true,
    "hidden": true
   },
   "outputs": [],
   "source": [
    "model.compile(optimizer=Adam(1e-4),\n",
    "       loss='categorical_crossentropy', metrics=['accuracy'])"
   ]
  },
  {
   "cell_type": "code",
   "execution_count": 25,
   "metadata": {
    "collapsed": false,
    "deletable": true,
    "editable": true,
    "hidden": true
   },
   "outputs": [
    {
     "name": "stdout",
     "output_type": "stream",
     "text": [
      "Train on 3277 samples, validate on 500 samples\n",
      "Epoch 1/3\n",
      "96s - loss: 0.6128 - acc: 0.8367 - val_loss: 0.2860 - val_acc: 0.9320\n",
      "Epoch 2/3\n",
      "98s - loss: 0.6411 - acc: 0.8264 - val_loss: 0.2829 - val_acc: 0.9280\n",
      "Epoch 3/3\n",
      "98s - loss: 0.5597 - acc: 0.8465 - val_loss: 0.2798 - val_acc: 0.9300\n"
     ]
    },
    {
     "data": {
      "text/plain": [
       "<keras.callbacks.History at 0x7f3ebffc7f10>"
      ]
     },
     "execution_count": 25,
     "metadata": {},
     "output_type": "execute_result"
    }
   ],
   "source": [
    "model.fit(trn, trn_labels, batch_size=batch_size, nb_epoch=3, \n",
    "          validation_data=(val, val_labels), verbose=2)"
   ]
  },
  {
   "cell_type": "code",
   "execution_count": 30,
   "metadata": {
    "collapsed": false,
    "deletable": true,
    "editable": true,
    "hidden": true
   },
   "outputs": [],
   "source": [
    "layers= model.layers\n",
    "dense_layer_idx = [index for index,layer in enumerate(layers) if type(layer) is Dense]\n",
    "layers[dense_layer_idx[-2]].trainable = True"
   ]
  },
  {
   "cell_type": "code",
   "execution_count": 31,
   "metadata": {
    "collapsed": true,
    "deletable": true,
    "editable": true,
    "hidden": true
   },
   "outputs": [],
   "source": [
    "model.compile(optimizer=Adam(lr=1e-4),\n",
    "              loss='categorical_crossentropy', \n",
    "              metrics=['accuracy'])"
   ]
  },
  {
   "cell_type": "code",
   "execution_count": 32,
   "metadata": {
    "collapsed": false,
    "deletable": true,
    "editable": true,
    "hidden": true
   },
   "outputs": [
    {
     "name": "stderr",
     "output_type": "stream",
     "text": [
      "INFO (theano.gof.compilelock): Refreshing lock /home/ubuntu/.theano/compiledir_Linux-4.4--generic-x86_64-with-debian-stretch-sid-x86_64-2.7.12-64/lock_dir/lock\n"
     ]
    },
    {
     "name": "stdout",
     "output_type": "stream",
     "text": [
      "Train on 3277 samples, validate on 500 samples\n",
      "Epoch 1/3\n",
      "97s - loss: 0.6793 - acc: 0.8474 - val_loss: 0.3293 - val_acc: 0.9320\n",
      "Epoch 2/3\n",
      "98s - loss: 0.4383 - acc: 0.9005 - val_loss: 0.1737 - val_acc: 0.9620\n",
      "Epoch 3/3\n",
      "99s - loss: 0.2782 - acc: 0.9310 - val_loss: 0.2117 - val_acc: 0.9720\n"
     ]
    },
    {
     "data": {
      "text/plain": [
       "<keras.callbacks.History at 0x7f3ec4abe6d0>"
      ]
     },
     "execution_count": 32,
     "metadata": {},
     "output_type": "execute_result"
    }
   ],
   "source": [
    "model.fit(trn, trn_labels, batch_size=batch_size, nb_epoch=3, \n",
    "          validation_data=(val, val_labels), verbose=2)"
   ]
  },
  {
   "cell_type": "code",
   "execution_count": 35,
   "metadata": {
    "collapsed": true,
    "deletable": true,
    "editable": true,
    "hidden": true
   },
   "outputs": [],
   "source": [
    "model.compile(optimizer=Adam(lr=1e-5),\n",
    "              loss='categorical_crossentropy', \n",
    "              metrics=['accuracy'])"
   ]
  },
  {
   "cell_type": "code",
   "execution_count": 36,
   "metadata": {
    "collapsed": false,
    "deletable": true,
    "editable": true,
    "hidden": true
   },
   "outputs": [
    {
     "name": "stdout",
     "output_type": "stream",
     "text": [
      "Train on 3277 samples, validate on 500 samples\n",
      "Epoch 1/3\n",
      "97s - loss: 0.1738 - acc: 0.9612 - val_loss: 0.2008 - val_acc: 0.9720\n",
      "Epoch 2/3\n",
      "98s - loss: 0.1619 - acc: 0.9573 - val_loss: 0.1944 - val_acc: 0.9700\n",
      "Epoch 3/3\n",
      "99s - loss: 0.1225 - acc: 0.9670 - val_loss: 0.2090 - val_acc: 0.9740\n"
     ]
    },
    {
     "data": {
      "text/plain": [
       "<keras.callbacks.History at 0x7f3eb92b2390>"
      ]
     },
     "execution_count": 36,
     "metadata": {},
     "output_type": "execute_result"
    }
   ],
   "source": [
    "model.fit(trn, trn_labels, batch_size=batch_size, nb_epoch=3, \n",
    "          validation_data=(val, val_labels), verbose=2)"
   ]
  },
  {
   "cell_type": "markdown",
   "metadata": {
    "deletable": true,
    "editable": true
   },
   "source": [
    "### Precompute conv layers output"
   ]
  },
  {
   "cell_type": "code",
   "execution_count": 10,
   "metadata": {
    "collapsed": true,
    "deletable": true,
    "editable": true
   },
   "outputs": [],
   "source": [
    "conv_layers,fc_layers = split_at(model, Convolution2D)"
   ]
  },
  {
   "cell_type": "code",
   "execution_count": 11,
   "metadata": {
    "collapsed": true,
    "deletable": true,
    "editable": true
   },
   "outputs": [],
   "source": [
    "conv_model = Sequential(conv_layers)"
   ]
  },
  {
   "cell_type": "code",
   "execution_count": 41,
   "metadata": {
    "collapsed": false,
    "deletable": true,
    "editable": true
   },
   "outputs": [
    {
     "name": "stderr",
     "output_type": "stream",
     "text": [
      "INFO (theano.gof.compilelock): Refreshing lock /home/ubuntu/.theano/compiledir_Linux-4.4--generic-x86_64-with-debian-stretch-sid-x86_64-2.7.12-64/lock_dir/lock\n"
     ]
    }
   ],
   "source": [
    "conv_feat = conv_model.predict(trn)\n",
    "conv_val_feat = conv_model.predict(val)"
   ]
  },
  {
   "cell_type": "code",
   "execution_count": 42,
   "metadata": {
    "collapsed": true,
    "deletable": true,
    "editable": true
   },
   "outputs": [],
   "source": [
    "conv_test_feat = conv_model.predict(test)"
   ]
  },
  {
   "cell_type": "code",
   "execution_count": 43,
   "metadata": {
    "collapsed": true,
    "deletable": true,
    "editable": true
   },
   "outputs": [],
   "source": [
    "save_array(path+'results/conv_val_feat.dat', conv_val_feat)\n",
    "save_array(path+'results/conv_feat.dat', conv_feat)"
   ]
  },
  {
   "cell_type": "code",
   "execution_count": 44,
   "metadata": {
    "collapsed": true,
    "deletable": true,
    "editable": true
   },
   "outputs": [],
   "source": [
    "save_array(path+'results/conv_test_feat.dat', conv_test_feat)"
   ]
  },
  {
   "cell_type": "code",
   "execution_count": 12,
   "metadata": {
    "collapsed": true,
    "deletable": true,
    "editable": true
   },
   "outputs": [],
   "source": [
    "conv_feat = load_array(path+'results/conv_feat.dat')\n",
    "conv_val_feat = load_array(path+'results/conv_val_feat.dat')"
   ]
  },
  {
   "cell_type": "code",
   "execution_count": 13,
   "metadata": {
    "collapsed": true,
    "deletable": true,
    "editable": true
   },
   "outputs": [],
   "source": [
    "conv_test_feat = load_array(path+'results/conv_test_feat.dat')"
   ]
  },
  {
   "cell_type": "code",
   "execution_count": 14,
   "metadata": {
    "collapsed": false,
    "deletable": true,
    "editable": true
   },
   "outputs": [
    {
     "data": {
      "text/plain": [
       "(500, 512, 14, 14)"
      ]
     },
     "execution_count": 14,
     "metadata": {},
     "output_type": "execute_result"
    }
   ],
   "source": [
    "conv_val_feat.shape"
   ]
  },
  {
   "cell_type": "markdown",
   "metadata": {
    "deletable": true,
    "editable": true,
    "heading_collapsed": true
   },
   "source": [
    "### Simple Fc layer model"
   ]
  },
  {
   "cell_type": "code",
   "execution_count": 50,
   "metadata": {
    "collapsed": false,
    "deletable": true,
    "editable": true,
    "hidden": true
   },
   "outputs": [],
   "source": [
    "def get_bn_layers(p):\n",
    "    return[\n",
    "        MaxPooling2D(input_shape=conv_layers[-1].output_shape[1:]),\n",
    "        BatchNormalization(axis=1),\n",
    "        Dropout(p/4),\n",
    "        Flatten(),\n",
    "        Dense(512, activation='relu'),\n",
    "        BatchNormalization(),\n",
    "        Dropout(p),\n",
    "        Dense(512, activation='relu'),\n",
    "        BatchNormalization(),\n",
    "        Dropout(p/2),\n",
    "        Dense(8, activation='softmax')\n",
    "    ]\n",
    "    "
   ]
  },
  {
   "cell_type": "code",
   "execution_count": 55,
   "metadata": {
    "collapsed": false,
    "deletable": true,
    "editable": true,
    "hidden": true
   },
   "outputs": [],
   "source": [
    "bn_model = Sequential(get_bn_layers(0.6))\n",
    "bn_model.compile(Adam(lr=1e-3), loss='categorical_crossentropy', metrics=['accuracy'])"
   ]
  },
  {
   "cell_type": "code",
   "execution_count": 56,
   "metadata": {
    "collapsed": false,
    "deletable": true,
    "editable": true,
    "hidden": true
   },
   "outputs": [
    {
     "name": "stderr",
     "output_type": "stream",
     "text": [
      "INFO (theano.gof.compilelock): Refreshing lock /home/ubuntu/.theano/compiledir_Linux-4.4--generic-x86_64-with-debian-stretch-sid-x86_64-2.7.12-64/lock_dir/lock\n"
     ]
    },
    {
     "name": "stdout",
     "output_type": "stream",
     "text": [
      "Train on 3277 samples, validate on 500 samples\n",
      "Epoch 1/3\n",
      "2s - loss: 1.1399 - acc: 0.6698 - val_loss: 0.7395 - val_acc: 0.8660\n",
      "Epoch 2/3\n",
      "2s - loss: 0.3357 - acc: 0.9042 - val_loss: 0.1693 - val_acc: 0.9540\n",
      "Epoch 3/3\n",
      "2s - loss: 0.1622 - acc: 0.9524 - val_loss: 0.0858 - val_acc: 0.9720\n"
     ]
    },
    {
     "data": {
      "text/plain": [
       "<keras.callbacks.History at 0x7f3e616f8e90>"
      ]
     },
     "execution_count": 56,
     "metadata": {},
     "output_type": "execute_result"
    }
   ],
   "source": [
    "bn_model.fit(conv_feat,trn_labels,batch_size=batch_size,\n",
    "            nb_epoch=3, validation_data=(conv_val_feat,val_labels), verbose=2)"
   ]
  },
  {
   "cell_type": "code",
   "execution_count": 57,
   "metadata": {
    "collapsed": false,
    "deletable": true,
    "editable": true,
    "hidden": true
   },
   "outputs": [
    {
     "name": "stdout",
     "output_type": "stream",
     "text": [
      "Train on 3277 samples, validate on 500 samples\n",
      "Epoch 1/5\n",
      "2s - loss: 0.1134 - acc: 0.9670 - val_loss: 0.0857 - val_acc: 0.9740\n",
      "Epoch 2/5\n",
      "2s - loss: 0.0730 - acc: 0.9829 - val_loss: 0.0946 - val_acc: 0.9740\n",
      "Epoch 3/5\n",
      "2s - loss: 0.0765 - acc: 0.9786 - val_loss: 0.0907 - val_acc: 0.9780\n",
      "Epoch 4/5\n",
      "2s - loss: 0.0418 - acc: 0.9881 - val_loss: 0.1038 - val_acc: 0.9820\n",
      "Epoch 5/5\n",
      "2s - loss: 0.0542 - acc: 0.9850 - val_loss: 0.1149 - val_acc: 0.9720\n"
     ]
    },
    {
     "data": {
      "text/plain": [
       "<keras.callbacks.History at 0x7f3e616fb2d0>"
      ]
     },
     "execution_count": 57,
     "metadata": {},
     "output_type": "execute_result"
    }
   ],
   "source": [
    "bn_model.optimizer.lr = 1e-5\n",
    "bn_model.fit(conv_feat,trn_labels,batch_size=batch_size,\n",
    "            nb_epoch=5, validation_data=(conv_val_feat,val_labels), verbose=2)"
   ]
  },
  {
   "cell_type": "code",
   "execution_count": 64,
   "metadata": {
    "collapsed": false,
    "deletable": true,
    "editable": true,
    "hidden": true
   },
   "outputs": [],
   "source": [
    "bn_model.save_weights(results_path + 'fcLayers1.h5')"
   ]
  },
  {
   "cell_type": "markdown",
   "metadata": {
    "deletable": true,
    "editable": true
   },
   "source": [
    "### Bounding boxes & multi output"
   ]
  },
  {
   "cell_type": "code",
   "execution_count": 16,
   "metadata": {
    "collapsed": false,
    "deletable": true,
    "editable": true
   },
   "outputs": [],
   "source": [
    "import ujson as json"
   ]
  },
  {
   "cell_type": "code",
   "execution_count": 17,
   "metadata": {
    "collapsed": true,
    "deletable": true,
    "editable": true
   },
   "outputs": [],
   "source": [
    "anno_classes = ['alb', 'bet', 'dol', 'lag', 'other', 'shark', 'yft']\n",
    "annos_path = dataDir + 'annos/'"
   ]
  },
  {
   "cell_type": "code",
   "execution_count": 18,
   "metadata": {
    "collapsed": false,
    "deletable": true,
    "editable": true
   },
   "outputs": [],
   "source": [
    "bb_json = {}\n",
    "for c in anno_classes:\n",
    "    j = json.load(open('{}{}_labels.json'.format(annos_path,c) , 'r'))\n",
    "    for l in j:\n",
    "        if 'annotations' in l.keys() and len(l['annotations'])>0:\n",
    "            bb_json[l['filename'].split('/')[-1]] = sorted(\n",
    "                l['annotations'], key=lambda x: x['height']*x['width'])[-1] \n",
    "            # If multiple fishes are there select ony one box"
   ]
  },
  {
   "cell_type": "code",
   "execution_count": 19,
   "metadata": {
    "collapsed": false,
    "deletable": true,
    "editable": true
   },
   "outputs": [
    {
     "data": {
      "text/plain": [
       "{u'class': u'rect',\n",
       " u'height': 246.75000000000074,\n",
       " u'width': 432.8700000000013,\n",
       " u'x': 465.3000000000014,\n",
       " u'y': 496.32000000000147}"
      ]
     },
     "execution_count": 19,
     "metadata": {},
     "output_type": "execute_result"
    }
   ],
   "source": [
    "bb_json['img_04908.jpg']"
   ]
  },
  {
   "cell_type": "code",
   "execution_count": 20,
   "metadata": {
    "collapsed": false,
    "deletable": true,
    "editable": true
   },
   "outputs": [],
   "source": [
    "file2idx = {o:i for i,o in enumerate(raw_filenames)}\n",
    "val_file2idx = {o:i for i,o in enumerate(raw_val_filenames)}"
   ]
  },
  {
   "cell_type": "code",
   "execution_count": 21,
   "metadata": {
    "collapsed": true,
    "deletable": true,
    "editable": true
   },
   "outputs": [],
   "source": [
    "empty_bbox = {'height': 0., 'width': 0., 'x': 0., 'y': 0.} # For any bb's missing"
   ]
  },
  {
   "cell_type": "code",
   "execution_count": 22,
   "metadata": {
    "collapsed": false,
    "deletable": true,
    "editable": true
   },
   "outputs": [],
   "source": [
    "for f in raw_filenames:\n",
    "    if f not in bb_json.keys():\n",
    "        bb_json[f] = empty_bbox\n",
    "for f in raw_val_filenames:\n",
    "    if f not in bb_json.keys():\n",
    "        bb_json[f] = empty_bbox        "
   ]
  },
  {
   "cell_type": "code",
   "execution_count": 23,
   "metadata": {
    "collapsed": true,
    "deletable": true,
    "editable": true
   },
   "outputs": [],
   "source": [
    "bb_params = ['height', 'width', 'x', 'y']\n",
    "def convert_bb(bb, size):\n",
    "    bb = [bb[p] for p in bb_params]\n",
    "    conv_x = (224. / size[0])\n",
    "    conv_y = (224. / size[1])\n",
    "    bb[0] = bb[0]*conv_y\n",
    "    bb[1] = bb[1]*conv_x\n",
    "    bb[2] = max(bb[2]*conv_x, 0)\n",
    "    bb[3] = max(bb[3]*conv_y, 0)\n",
    "    return bb"
   ]
  },
  {
   "cell_type": "markdown",
   "metadata": {
    "deletable": true,
    "editable": true
   },
   "source": [
    "#### Sizes"
   ]
  },
  {
   "cell_type": "code",
   "execution_count": 24,
   "metadata": {
    "collapsed": false,
    "deletable": true,
    "editable": true
   },
   "outputs": [],
   "source": [
    "sizes = [PIL.Image.open(train_path+f).size for f in filenames]\n",
    "id2size = list(set(sizes))\n",
    "size2id = {o:i for i,o in enumerate(id2size)}"
   ]
  },
  {
   "cell_type": "code",
   "execution_count": 25,
   "metadata": {
    "collapsed": false,
    "deletable": true,
    "editable": true
   },
   "outputs": [
    {
     "data": {
      "text/plain": [
       "Counter({(1192, 670): 166,\n",
       "         (1244, 700): 26,\n",
       "         (1276, 718): 190,\n",
       "         (1280, 720): 1874,\n",
       "         (1280, 750): 538,\n",
       "         (1280, 924): 46,\n",
       "         (1280, 974): 348,\n",
       "         (1334, 750): 27,\n",
       "         (1518, 854): 35,\n",
       "         (1732, 974): 27})"
      ]
     },
     "execution_count": 25,
     "metadata": {},
     "output_type": "execute_result"
    }
   ],
   "source": [
    "import collections\n",
    "collections.Counter(sizes)"
   ]
  },
  {
   "cell_type": "code",
   "execution_count": 26,
   "metadata": {
    "collapsed": true,
    "deletable": true,
    "editable": true
   },
   "outputs": [],
   "source": [
    "trn_sizes_orig = to_categorical([size2id[o] for o in sizes], len(id2size))\n",
    "raw_val_sizes = [PIL.Image.open(path+'valid/'+f).size for f in val_filenames]\n",
    "val_sizes = to_categorical([size2id[o] for o in raw_val_sizes], len(id2size))\n",
    "trn_sizes = trn_sizes_orig-trn_sizes_orig.mean(axis=0)/trn_sizes_orig.std(axis=0)\n",
    "val_sizes = val_sizes-trn_sizes_orig.mean(axis=0)/trn_sizes_orig.std(axis=0)"
   ]
  },
  {
   "cell_type": "markdown",
   "metadata": {
    "deletable": true,
    "editable": true
   },
   "source": [
    "#### Next"
   ]
  },
  {
   "cell_type": "code",
   "execution_count": 27,
   "metadata": {
    "collapsed": true,
    "deletable": true,
    "editable": true
   },
   "outputs": [],
   "source": [
    "trn_bbox = np.stack([convert_bb(bb_json[f], s) for f,s in zip(raw_filenames, sizes)], \n",
    "                   ).astype(np.float32)\n",
    "val_bbox = np.stack([convert_bb(bb_json[f], s) \n",
    "                   for f,s in zip(raw_val_filenames, raw_val_sizes)]).astype(np.float32)"
   ]
  },
  {
   "cell_type": "code",
   "execution_count": 28,
   "metadata": {
    "collapsed": true,
    "deletable": true,
    "editable": true
   },
   "outputs": [],
   "source": [
    "def create_rect(bb, color='red'):\n",
    "    return plt.Rectangle((bb[2], bb[3]), bb[1], bb[0], color=color, fill=False, lw=3)\n",
    "\n",
    "def show_bb(i):\n",
    "    bb = val_bbox[i]\n",
    "    plot(val[i])\n",
    "    plt.gca().add_patch(create_rect(bb))"
   ]
  },
  {
   "cell_type": "code",
   "execution_count": 29,
   "metadata": {
    "collapsed": false,
    "deletable": true,
    "editable": true
   },
   "outputs": [
    {
     "data": {
      "image/png": "[encoded data removed]",
      "text/plain": [
       "<matplotlib.figure.Figure at 0x7fdfd3413310>"
      ]
     },
     "metadata": {},
     "output_type": "display_data"
    }
   ],
   "source": [
    "show_bb(100)"
   ]
  },
  {
   "cell_type": "markdown",
   "metadata": {
    "deletable": true,
    "editable": true
   },
   "source": [
    "### Multi-output model"
   ]
  },
  {
   "cell_type": "code",
   "execution_count": 30,
   "metadata": {
    "collapsed": true,
    "deletable": true,
    "editable": true
   },
   "outputs": [],
   "source": [
    "p=0.6"
   ]
  },
  {
   "cell_type": "code",
   "execution_count": 31,
   "metadata": {
    "collapsed": true,
    "deletable": true,
    "editable": true
   },
   "outputs": [],
   "source": [
    "inp = Input(conv_layers[-1].output_shape[1:])\n",
    "x = MaxPooling2D()(inp)\n",
    "x = BatchNormalization(axis=1)(x)\n",
    "x = Dropout(p/2)(x)\n",
    "x = Flatten()(x)\n",
    "x = Dense(512, activation='relu')(x)\n",
    "x = BatchNormalization()(x)\n",
    "x = Dropout(p*1.2)(x)\n",
    "x = Dense(512, activation='relu')(x)\n",
    "x = BatchNormalization()(x)\n",
    "x = Dropout(p)(x)\n",
    "x_bb = Dense(4, name='bb')(x)\n",
    "x_class = Dense(8, activation='softmax', name='class')(x)"
   ]
  },
  {
   "cell_type": "code",
   "execution_count": 32,
   "metadata": {
    "collapsed": false,
    "deletable": true,
    "editable": true
   },
   "outputs": [],
   "source": [
    "model = Model([inp], [x_bb, x_class])\n",
    "model.compile(Adam(lr=0.0001), loss=['mse', 'categorical_crossentropy'], metrics=['accuracy'],\n",
    "             loss_weights=[.001, 1.])"
   ]
  },
  {
   "cell_type": "code",
   "execution_count": 33,
   "metadata": {
    "collapsed": false,
    "deletable": true,
    "editable": true,
    "scrolled": true
   },
   "outputs": [
    {
     "name": "stdout",
     "output_type": "stream",
     "text": [
      "Train on 3277 samples, validate on 500 samples\n",
      "Epoch 1/3\n",
      "2s - loss: 7.9205 - bb_loss: 5124.7880 - class_loss: 2.7957 - bb_acc: 0.2637 - class_acc: 0.2551 - val_loss: 6.3397 - val_bb_loss: 5107.0457 - val_class_loss: 1.2327 - val_bb_acc: 0.3120 - val_class_acc: 0.6480\n",
      "Epoch 2/3\n",
      "2s - loss: 6.8896 - bb_loss: 5105.2934 - class_loss: 1.7843 - bb_acc: 0.3290 - class_acc: 0.4666 - val_loss: 5.7158 - val_bb_loss: 5059.5030 - val_class_loss: 0.6563 - val_bb_acc: 0.5560 - val_class_acc: 0.8240\n",
      "Epoch 3/3\n",
      "2s - loss: 6.4467 - bb_loss: 5091.6414 - class_loss: 1.3551 - bb_acc: 0.3653 - class_acc: 0.5752 - val_loss: 5.4420 - val_bb_loss: 5046.9330 - val_class_loss: 0.3951 - val_bb_acc: 0.5880 - val_class_acc: 0.8920\n"
     ]
    },
    {
     "data": {
      "text/plain": [
       "<keras.callbacks.History at 0x7fdfbc8e8450>"
      ]
     },
     "execution_count": 33,
     "metadata": {},
     "output_type": "execute_result"
    }
   ],
   "source": [
    "model.fit(conv_feat, [trn_bbox, trn_labels], batch_size=batch_size, nb_epoch=3, \n",
    "             validation_data=(conv_val_feat, [val_bbox, val_labels]), verbose=2)"
   ]
  },
  {
   "cell_type": "code",
   "execution_count": 34,
   "metadata": {
    "collapsed": false
   },
   "outputs": [
    {
     "name": "stdout",
     "output_type": "stream",
     "text": [
      "Train on 3277 samples, validate on 500 samples\n",
      "Epoch 1/10\n",
      "2s - loss: 6.0711 - bb_loss: 5076.3477 - class_loss: 0.9948 - bb_acc: 0.3814 - class_acc: 0.6857 - val_loss: 5.3250 - val_bb_loss: 5026.9727 - val_class_loss: 0.2980 - val_bb_acc: 0.6180 - val_class_acc: 0.9200\n",
      "Epoch 2/10\n",
      "2s - loss: 5.9013 - bb_loss: 5055.1035 - class_loss: 0.8462 - bb_acc: 0.4110 - class_acc: 0.7397 - val_loss: 5.2452 - val_bb_loss: 4999.3495 - val_class_loss: 0.2458 - val_bb_acc: 0.6440 - val_class_acc: 0.9320\n",
      "Epoch 3/10\n",
      "2s - loss: 5.6988 - bb_loss: 5047.3160 - class_loss: 0.6514 - bb_acc: 0.4355 - class_acc: 0.7968 - val_loss: 5.1950 - val_bb_loss: 4998.9250 - val_class_loss: 0.1961 - val_bb_acc: 0.6640 - val_class_acc: 0.9440\n",
      "Epoch 4/10\n",
      "2s - loss: 5.5259 - bb_loss: 5018.3188 - class_loss: 0.5076 - bb_acc: 0.4455 - class_acc: 0.8392 - val_loss: 5.1493 - val_bb_loss: 4974.2851 - val_class_loss: 0.1751 - val_bb_acc: 0.6720 - val_class_acc: 0.9440\n",
      "Epoch 5/10\n",
      "2s - loss: 5.4282 - bb_loss: 4999.6214 - class_loss: 0.4286 - bb_acc: 0.4608 - class_acc: 0.8743 - val_loss: 5.1021 - val_bb_loss: 4957.6145 - val_class_loss: 0.1445 - val_bb_acc: 0.6540 - val_class_acc: 0.9520\n",
      "Epoch 6/10\n",
      "2s - loss: 5.3786 - bb_loss: 4979.4527 - class_loss: 0.3992 - bb_acc: 0.4861 - class_acc: 0.8779 - val_loss: 5.0741 - val_bb_loss: 4940.9530 - val_class_loss: 0.1331 - val_bb_acc: 0.6680 - val_class_acc: 0.9520\n",
      "Epoch 7/10\n",
      "2s - loss: 5.2835 - bb_loss: 4959.7410 - class_loss: 0.3238 - bb_acc: 0.4803 - class_acc: 0.8993 - val_loss: 5.0168 - val_bb_loss: 4904.5257 - val_class_loss: 0.1122 - val_bb_acc: 0.6780 - val_class_acc: 0.9600\n",
      "Epoch 8/10\n",
      "2s - loss: 5.1945 - bb_loss: 4933.5994 - class_loss: 0.2609 - bb_acc: 0.5121 - class_acc: 0.9188 - val_loss: 4.9722 - val_bb_loss: 4872.4451 - val_class_loss: 0.0997 - val_bb_acc: 0.6760 - val_class_acc: 0.9760\n",
      "Epoch 9/10\n",
      "2s - loss: 5.1379 - bb_loss: 4897.2621 - class_loss: 0.2406 - bb_acc: 0.5215 - class_acc: 0.9301 - val_loss: 4.9386 - val_bb_loss: 4848.0923 - val_class_loss: 0.0905 - val_bb_acc: 0.6800 - val_class_acc: 0.9720\n",
      "Epoch 10/10\n",
      "2s - loss: 5.0639 - bb_loss: 4872.0915 - class_loss: 0.1918 - bb_acc: 0.5133 - class_acc: 0.9439 - val_loss: 4.8994 - val_bb_loss: 4813.8653 - val_class_loss: 0.0856 - val_bb_acc: 0.6620 - val_class_acc: 0.9760\n"
     ]
    },
    {
     "data": {
      "text/plain": [
       "<keras.callbacks.History at 0x7fdfba6c0cd0>"
      ]
     },
     "execution_count": 34,
     "metadata": {},
     "output_type": "execute_result"
    }
   ],
   "source": [
    "model.fit(conv_feat, [trn_bbox, trn_labels], batch_size=batch_size, nb_epoch=10, \n",
    "             validation_data=(conv_val_feat, [val_bbox, val_labels]), verbose=2)"
   ]
  },
  {
   "cell_type": "code",
   "execution_count": 35,
   "metadata": {
    "collapsed": false,
    "deletable": true,
    "editable": true
   },
   "outputs": [
    {
     "name": "stdout",
     "output_type": "stream",
     "text": [
      "Train on 3277 samples, validate on 500 samples\n",
      "Epoch 1/10\n",
      "2s - loss: 5.0113 - bb_loss: 4834.1954 - class_loss: 0.1771 - bb_acc: 0.5322 - class_acc: 0.9481 - val_loss: 4.8560 - val_bb_loss: 4769.3106 - val_class_loss: 0.0867 - val_bb_acc: 0.6660 - val_class_acc: 0.9660\n",
      "Epoch 2/10\n",
      "2s - loss: 4.9835 - bb_loss: 4802.7726 - class_loss: 0.1808 - bb_acc: 0.5407 - class_acc: 0.9454 - val_loss: 4.8169 - val_bb_loss: 4735.5878 - val_class_loss: 0.0813 - val_bb_acc: 0.6400 - val_class_acc: 0.9740\n",
      "Epoch 3/10\n",
      "2s - loss: 4.9022 - bb_loss: 4761.0157 - class_loss: 0.1412 - bb_acc: 0.5420 - class_acc: 0.9606 - val_loss: 4.7538 - val_bb_loss: 4675.1999 - val_class_loss: 0.0786 - val_bb_acc: 0.6320 - val_class_acc: 0.9760\n",
      "Epoch 4/10\n",
      "2s - loss: 4.8573 - bb_loss: 4725.8122 - class_loss: 0.1315 - bb_acc: 0.5645 - class_acc: 0.9622 - val_loss: 4.7057 - val_bb_loss: 4630.2748 - val_class_loss: 0.0754 - val_bb_acc: 0.6500 - val_class_acc: 0.9760\n",
      "Epoch 5/10\n",
      "2s - loss: 4.8104 - bb_loss: 4684.2761 - class_loss: 0.1261 - bb_acc: 0.5481 - class_acc: 0.9597 - val_loss: 4.6619 - val_bb_loss: 4583.0155 - val_class_loss: 0.0789 - val_bb_acc: 0.6520 - val_class_acc: 0.9760\n",
      "Epoch 6/10\n",
      "2s - loss: 4.7623 - bb_loss: 4642.7055 - class_loss: 0.1196 - bb_acc: 0.5545 - class_acc: 0.9640 - val_loss: 4.6131 - val_bb_loss: 4534.6806 - val_class_loss: 0.0784 - val_bb_acc: 0.6500 - val_class_acc: 0.9720\n",
      "Epoch 7/10\n",
      "2s - loss: 4.7198 - bb_loss: 4600.2306 - class_loss: 0.1195 - bb_acc: 0.5587 - class_acc: 0.9637 - val_loss: 4.5770 - val_bb_loss: 4499.8704 - val_class_loss: 0.0771 - val_bb_acc: 0.6500 - val_class_acc: 0.9740\n",
      "Epoch 8/10\n",
      "2s - loss: 4.6474 - bb_loss: 4548.8889 - class_loss: 0.0985 - bb_acc: 0.5780 - class_acc: 0.9738 - val_loss: 4.5233 - val_bb_loss: 4445.5197 - val_class_loss: 0.0778 - val_bb_acc: 0.6520 - val_class_acc: 0.9780\n",
      "Epoch 9/10\n",
      "2s - loss: 4.5937 - bb_loss: 4500.2275 - class_loss: 0.0934 - bb_acc: 0.5792 - class_acc: 0.9753 - val_loss: 4.4791 - val_bb_loss: 4404.3387 - val_class_loss: 0.0747 - val_bb_acc: 0.6400 - val_class_acc: 0.9780\n",
      "Epoch 10/10\n",
      "2s - loss: 4.5249 - bb_loss: 4442.8266 - class_loss: 0.0821 - bb_acc: 0.5789 - class_acc: 0.9771 - val_loss: 4.4149 - val_bb_loss: 4335.7994 - val_class_loss: 0.0791 - val_bb_acc: 0.6420 - val_class_acc: 0.9800\n"
     ]
    },
    {
     "data": {
      "text/plain": [
       "<keras.callbacks.History at 0x7fdfcfa3a710>"
      ]
     },
     "execution_count": 35,
     "metadata": {},
     "output_type": "execute_result"
    }
   ],
   "source": [
    "model.optimizer.lr = 1e-5\n",
    "model.fit(conv_feat, [trn_bbox, trn_labels], batch_size=batch_size, nb_epoch=10, \n",
    "             validation_data=(conv_val_feat, [val_bbox, val_labels]), verbose=2)"
   ]
  },
  {
   "cell_type": "code",
   "execution_count": 36,
   "metadata": {
    "collapsed": false
   },
   "outputs": [
    {
     "name": "stdout",
     "output_type": "stream",
     "text": [
      "Train on 3277 samples, validate on 500 samples\n",
      "Epoch 1/10\n",
      "2s - loss: 4.4679 - bb_loss: 4390.7586 - class_loss: 0.0771 - bb_acc: 0.5868 - class_acc: 0.9796 - val_loss: 4.3543 - val_bb_loss: 4278.7704 - val_class_loss: 0.0755 - val_bb_acc: 0.6460 - val_class_acc: 0.9760\n",
      "Epoch 2/10\n",
      "2s - loss: 4.4127 - bb_loss: 4335.5658 - class_loss: 0.0771 - bb_acc: 0.5758 - class_acc: 0.9802 - val_loss: 4.2978 - val_bb_loss: 4223.3633 - val_class_loss: 0.0744 - val_bb_acc: 0.6440 - val_class_acc: 0.9800\n",
      "Epoch 3/10\n",
      "2s - loss: 4.3715 - bb_loss: 4287.9668 - class_loss: 0.0835 - bb_acc: 0.5923 - class_acc: 0.9783 - val_loss: 4.2454 - val_bb_loss: 4173.7782 - val_class_loss: 0.0716 - val_bb_acc: 0.6440 - val_class_acc: 0.9800\n",
      "Epoch 4/10\n",
      "2s - loss: 4.3070 - bb_loss: 4227.5445 - class_loss: 0.0795 - bb_acc: 0.5948 - class_acc: 0.9786 - val_loss: 4.1861 - val_bb_loss: 4114.7197 - val_class_loss: 0.0714 - val_bb_acc: 0.6380 - val_class_acc: 0.9820\n",
      "Epoch 5/10\n",
      "2s - loss: 4.2308 - bb_loss: 4167.6715 - class_loss: 0.0631 - bb_acc: 0.5954 - class_acc: 0.9835 - val_loss: 4.1158 - val_bb_loss: 4044.3849 - val_class_loss: 0.0714 - val_bb_acc: 0.6500 - val_class_acc: 0.9820\n",
      "Epoch 6/10\n",
      "2s - loss: 4.1753 - bb_loss: 4110.3999 - class_loss: 0.0649 - bb_acc: 0.5938 - class_acc: 0.9796 - val_loss: 4.0886 - val_bb_loss: 4007.9949 - val_class_loss: 0.0806 - val_bb_acc: 0.6460 - val_class_acc: 0.9800\n",
      "Epoch 7/10\n",
      "2s - loss: 4.1217 - bb_loss: 4059.8796 - class_loss: 0.0618 - bb_acc: 0.5951 - class_acc: 0.9820 - val_loss: 4.0217 - val_bb_loss: 3949.0022 - val_class_loss: 0.0727 - val_bb_acc: 0.6380 - val_class_acc: 0.9820\n",
      "Epoch 8/10\n",
      "2s - loss: 4.0391 - bb_loss: 3986.6787 - class_loss: 0.0524 - bb_acc: 0.5938 - class_acc: 0.9863 - val_loss: 3.9542 - val_bb_loss: 3869.7998 - val_class_loss: 0.0844 - val_bb_acc: 0.6420 - val_class_acc: 0.9820\n",
      "Epoch 9/10\n",
      "2s - loss: 3.9833 - bb_loss: 3923.1516 - class_loss: 0.0601 - bb_acc: 0.6057 - class_acc: 0.9860 - val_loss: 3.8882 - val_bb_loss: 3810.2560 - val_class_loss: 0.0780 - val_bb_acc: 0.6520 - val_class_acc: 0.9800\n",
      "Epoch 10/10\n",
      "2s - loss: 3.9262 - bb_loss: 3868.3553 - class_loss: 0.0578 - bb_acc: 0.5978 - class_acc: 0.9826 - val_loss: 3.8413 - val_bb_loss: 3761.4370 - val_class_loss: 0.0799 - val_bb_acc: 0.6500 - val_class_acc: 0.9820\n"
     ]
    },
    {
     "data": {
      "text/plain": [
       "<keras.callbacks.History at 0x7fdfbca4f910>"
      ]
     },
     "execution_count": 36,
     "metadata": {},
     "output_type": "execute_result"
    }
   ],
   "source": [
    "model.optimizer.lr = 1e-4\n",
    "model.fit(conv_feat, [trn_bbox, trn_labels], batch_size=batch_size, nb_epoch=10, \n",
    "             validation_data=(conv_val_feat, [val_bbox, val_labels]), verbose=2)"
   ]
  },
  {
   "cell_type": "code",
   "execution_count": 37,
   "metadata": {
    "collapsed": false
   },
   "outputs": [
    {
     "name": "stdout",
     "output_type": "stream",
     "text": [
      "Train on 3277 samples, validate on 500 samples\n",
      "Epoch 1/3\n",
      "2s - loss: 3.8569 - bb_loss: 3804.1644 - class_loss: 0.0527 - bb_acc: 0.6094 - class_acc: 0.9866 - val_loss: 3.7650 - val_bb_loss: 3687.7760 - val_class_loss: 0.0773 - val_bb_acc: 0.6580 - val_class_acc: 0.9860\n",
      "Epoch 2/3\n",
      "2s - loss: 3.7889 - bb_loss: 3740.4619 - class_loss: 0.0484 - bb_acc: 0.6128 - class_acc: 0.9866 - val_loss: 3.7193 - val_bb_loss: 3643.5648 - val_class_loss: 0.0758 - val_bb_acc: 0.6600 - val_class_acc: 0.9860\n",
      "Epoch 3/3\n",
      "2s - loss: 3.7264 - bb_loss: 3678.9013 - class_loss: 0.0475 - bb_acc: 0.6161 - class_acc: 0.9857 - val_loss: 3.6214 - val_bb_loss: 3538.7035 - val_class_loss: 0.0827 - val_bb_acc: 0.6640 - val_class_acc: 0.9860\n"
     ]
    },
    {
     "data": {
      "text/plain": [
       "<keras.callbacks.History at 0x7fdfce0bcf50>"
      ]
     },
     "execution_count": 37,
     "metadata": {},
     "output_type": "execute_result"
    }
   ],
   "source": [
    "model.optimizer.lr = 1e-3\n",
    "model.fit(conv_feat, [trn_bbox, trn_labels], batch_size=batch_size, nb_epoch=3, \n",
    "             validation_data=(conv_val_feat, [val_bbox, val_labels]), verbose=2)"
   ]
  },
  {
   "cell_type": "code",
   "execution_count": 38,
   "metadata": {
    "collapsed": false
   },
   "outputs": [
    {
     "data": {
      "text/plain": [
       "<keras.callbacks.History at 0x7fdfba6c0fd0>"
      ]
     },
     "execution_count": 38,
     "metadata": {},
     "output_type": "execute_result"
    }
   ],
   "source": [
    "model.optimizer.lr = 1e-5\n",
    "model.fit(conv_feat, [trn_bbox, trn_labels], batch_size=batch_size, nb_epoch=25, \n",
    "             validation_data=(conv_val_feat, [val_bbox, val_labels]), verbose=0)"
   ]
  },
  {
   "cell_type": "code",
   "execution_count": 40,
   "metadata": {
    "collapsed": false
   },
   "outputs": [
    {
     "data": {
      "text/plain": [
       "<keras.callbacks.History at 0x7fdfba6c0f50>"
      ]
     },
     "execution_count": 40,
     "metadata": {},
     "output_type": "execute_result"
    }
   ],
   "source": [
    "model.optimizer.lr = 1e-5\n",
    "model.fit(conv_feat, [trn_bbox, trn_labels], batch_size=batch_size, nb_epoch=30, \n",
    "             validation_data=(conv_val_feat, [val_bbox, val_labels]), verbose=0)"
   ]
  },
  {
   "cell_type": "code",
   "execution_count": 42,
   "metadata": {
    "collapsed": false
   },
   "outputs": [
    {
     "data": {
      "text/plain": [
       "<keras.callbacks.History at 0x7fdfcfa2be90>"
      ]
     },
     "execution_count": 42,
     "metadata": {},
     "output_type": "execute_result"
    }
   ],
   "source": [
    "model.optimizer.lr = 1e-5\n",
    "model.fit(conv_feat, [trn_bbox, trn_labels], batch_size=batch_size, nb_epoch=15, \n",
    "             validation_data=(conv_val_feat, [val_bbox, val_labels]), verbose=0)"
   ]
  },
  {
   "cell_type": "code",
   "execution_count": 46,
   "metadata": {
    "collapsed": false
   },
   "outputs": [
    {
     "data": {
      "text/plain": [
       "<keras.callbacks.History at 0x7fdfba6c0c10>"
      ]
     },
     "execution_count": 46,
     "metadata": {},
     "output_type": "execute_result"
    }
   ],
   "source": [
    "model.optimizer.lr = 1e-5\n",
    "model.fit(conv_feat, [trn_bbox, trn_labels], batch_size=batch_size, nb_epoch=30, \n",
    "             validation_data=(conv_val_feat, [val_bbox, val_labels]), verbose=0)"
   ]
  },
  {
   "cell_type": "code",
   "execution_count": 47,
   "metadata": {
    "collapsed": false
   },
   "outputs": [
    {
     "name": "stdout",
     "output_type": "stream",
     "text": [
      "Train on 3277 samples, validate on 500 samples\n",
      "Epoch 1/1\n",
      "2s - loss: 0.2423 - bb_loss: 229.6711 - class_loss: 0.0126 - bb_acc: 0.7958 - class_acc: 0.9960 - val_loss: 0.3410 - val_bb_loss: 229.5195 - val_class_loss: 0.1115 - val_bb_acc: 0.8340 - val_class_acc: 0.9860\n"
     ]
    },
    {
     "data": {
      "text/plain": [
       "<keras.callbacks.History at 0x7fdfbca4f850>"
      ]
     },
     "execution_count": 47,
     "metadata": {},
     "output_type": "execute_result"
    }
   ],
   "source": [
    "model.optimizer.lr = 1e-6\n",
    "model.fit(conv_feat, [trn_bbox, trn_labels], batch_size=batch_size, nb_epoch=1, \n",
    "             validation_data=(conv_val_feat, [val_bbox, val_labels]), verbose=2)"
   ]
  },
  {
   "cell_type": "code",
   "execution_count": 109,
   "metadata": {
    "collapsed": true,
    "deletable": true,
    "editable": true
   },
   "outputs": [],
   "source": [
    "pred = model.predict(conv_val_feat[0:10])"
   ]
  },
  {
   "cell_type": "code",
   "execution_count": 116,
   "metadata": {
    "collapsed": false,
    "deletable": true,
    "editable": true
   },
   "outputs": [
    {
     "data": {
      "text/plain": [
       "(10, 8)"
      ]
     },
     "execution_count": 116,
     "metadata": {},
     "output_type": "execute_result"
    }
   ],
   "source": [
    "pred[1].shape"
   ]
  },
  {
   "cell_type": "markdown",
   "metadata": {
    "heading_collapsed": true
   },
   "source": [
    "### Getting only Bouding boxes"
   ]
  },
  {
   "cell_type": "code",
   "execution_count": 48,
   "metadata": {
    "collapsed": true,
    "hidden": true
   },
   "outputs": [],
   "source": [
    "inp = Input(conv_layers[-1].output_shape[1:])\n",
    "x = MaxPooling2D()(inp)\n",
    "x = BatchNormalization(axis=1)(x)\n",
    "x = Dropout(p/2)(x)\n",
    "x = Flatten()(x)\n",
    "x = Dense(512, activation='relu')(x)\n",
    "x = BatchNormalization()(x)\n",
    "x = Dropout(p*1.2)(x)\n",
    "x = Dense(512, activation='relu')(x)\n",
    "x = BatchNormalization()(x)\n",
    "x = Dropout(p)(x)\n",
    "x_bb = Dense(4, name='bb')(x)"
   ]
  },
  {
   "cell_type": "code",
   "execution_count": 49,
   "metadata": {
    "collapsed": true,
    "hidden": true
   },
   "outputs": [],
   "source": [
    "model = Model([inp], [x_bb])\n",
    "model.compile(Adam(lr=0.0001), loss=['mse'], metrics=['accuracy'])"
   ]
  },
  {
   "cell_type": "code",
   "execution_count": 51,
   "metadata": {
    "collapsed": false,
    "hidden": true
   },
   "outputs": [
    {
     "name": "stdout",
     "output_type": "stream",
     "text": [
      "Train on 3277 samples, validate on 500 samples\n",
      "Epoch 1/3\n",
      "2s - loss: 5035.6852 - acc: 0.4223 - val_loss: 4590.0441 - val_acc: 0.6300\n",
      "Epoch 2/3\n",
      "2s - loss: 4894.3767 - acc: 0.5096 - val_loss: 4486.3245 - val_acc: 0.6340\n",
      "Epoch 3/3\n",
      "2s - loss: 4789.5573 - acc: 0.5502 - val_loss: 4430.5098 - val_acc: 0.6440\n"
     ]
    },
    {
     "data": {
      "text/plain": [
       "<keras.callbacks.History at 0x7fdfaee3c890>"
      ]
     },
     "execution_count": 51,
     "metadata": {},
     "output_type": "execute_result"
    }
   ],
   "source": [
    "model.fit(conv_feat, trn_bbox, batch_size=batch_size, nb_epoch=3, \n",
    "             validation_data=(conv_val_feat, val_bbox), verbose=2)"
   ]
  },
  {
   "cell_type": "code",
   "execution_count": 52,
   "metadata": {
    "collapsed": false,
    "hidden": true
   },
   "outputs": [
    {
     "name": "stdout",
     "output_type": "stream",
     "text": [
      "Train on 3277 samples, validate on 500 samples\n",
      "Epoch 1/8\n",
      "2s - loss: 4690.2967 - acc: 0.5865 - val_loss: 4398.1717 - val_acc: 0.6440\n",
      "Epoch 2/8\n",
      "2s - loss: 4596.6817 - acc: 0.6118 - val_loss: 4370.3751 - val_acc: 0.6380\n",
      "Epoch 3/8\n",
      "2s - loss: 4513.9027 - acc: 0.6170 - val_loss: 4317.6827 - val_acc: 0.6460\n",
      "Epoch 4/8\n",
      "2s - loss: 4428.4604 - acc: 0.6323 - val_loss: 4263.7348 - val_acc: 0.6280\n",
      "Epoch 5/8\n",
      "2s - loss: 4345.3830 - acc: 0.6305 - val_loss: 4198.4565 - val_acc: 0.6540\n",
      "Epoch 6/8\n",
      "2s - loss: 4270.9627 - acc: 0.6417 - val_loss: 4137.0863 - val_acc: 0.6420\n",
      "Epoch 7/8\n",
      "2s - loss: 4186.3670 - acc: 0.6454 - val_loss: 4061.1679 - val_acc: 0.6560\n",
      "Epoch 8/8\n",
      "2s - loss: 4118.4590 - acc: 0.6536 - val_loss: 3960.7666 - val_acc: 0.6600\n"
     ]
    },
    {
     "data": {
      "text/plain": [
       "<keras.callbacks.History at 0x7fdfaedbe210>"
      ]
     },
     "execution_count": 52,
     "metadata": {},
     "output_type": "execute_result"
    }
   ],
   "source": [
    "model.fit(conv_feat, trn_bbox, batch_size=batch_size, nb_epoch=8, \n",
    "             validation_data=(conv_val_feat, val_bbox), verbose=2)"
   ]
  },
  {
   "cell_type": "code",
   "execution_count": 59,
   "metadata": {
    "collapsed": false,
    "hidden": true
   },
   "outputs": [
    {
     "name": "stdout",
     "output_type": "stream",
     "text": [
      "Train on 3277 samples, validate on 500 samples\n",
      "Epoch 1/30\n",
      "2s - loss: 2893.3972 - acc: 0.6884 - val_loss: 2765.2304 - val_acc: 0.6860\n",
      "Epoch 2/30\n",
      "2s - loss: 2826.2295 - acc: 0.6842 - val_loss: 2747.7790 - val_acc: 0.6820\n",
      "Epoch 3/30\n",
      "2s - loss: 2762.4992 - acc: 0.6970 - val_loss: 2712.6444 - val_acc: 0.6820\n",
      "Epoch 4/30\n",
      "2s - loss: 2689.4702 - acc: 0.6921 - val_loss: 2608.2914 - val_acc: 0.6820\n",
      "Epoch 5/30\n",
      "2s - loss: 2627.4336 - acc: 0.6924 - val_loss: 2539.1923 - val_acc: 0.6740\n",
      "Epoch 6/30\n",
      "1s - loss: 2543.4105 - acc: 0.6991 - val_loss: 2411.4378 - val_acc: 0.7060\n",
      "Epoch 7/30\n",
      "2s - loss: 2468.4397 - acc: 0.7089 - val_loss: 2402.6805 - val_acc: 0.6900\n",
      "Epoch 8/30\n",
      "2s - loss: 2391.7390 - acc: 0.7028 - val_loss: 2276.6604 - val_acc: 0.6980\n",
      "Epoch 9/30\n",
      "2s - loss: 2314.1174 - acc: 0.7110 - val_loss: 2205.3696 - val_acc: 0.7020\n",
      "Epoch 10/30\n",
      "2s - loss: 2238.5616 - acc: 0.7034 - val_loss: 2129.5247 - val_acc: 0.6960\n",
      "Epoch 11/30\n",
      "2s - loss: 2178.9044 - acc: 0.7028 - val_loss: 2024.7910 - val_acc: 0.6960\n",
      "Epoch 12/30\n",
      "2s - loss: 2084.6673 - acc: 0.7031 - val_loss: 1979.7925 - val_acc: 0.7080\n",
      "Epoch 13/30\n",
      "2s - loss: 2026.4570 - acc: 0.7028 - val_loss: 1888.8544 - val_acc: 0.7020\n",
      "Epoch 14/30\n",
      "2s - loss: 1938.0851 - acc: 0.7257 - val_loss: 1794.7186 - val_acc: 0.7140\n",
      "Epoch 15/30\n",
      "2s - loss: 1854.1174 - acc: 0.7193 - val_loss: 1780.5022 - val_acc: 0.7120\n",
      "Epoch 16/30\n",
      "2s - loss: 1797.6308 - acc: 0.7232 - val_loss: 1694.3456 - val_acc: 0.7180\n",
      "Epoch 17/30\n",
      "2s - loss: 1714.7170 - acc: 0.7269 - val_loss: 1647.1582 - val_acc: 0.7220\n",
      "Epoch 18/30\n",
      "2s - loss: 1621.4841 - acc: 0.7254 - val_loss: 1551.0303 - val_acc: 0.7300\n",
      "Epoch 19/30\n",
      "2s - loss: 1565.4961 - acc: 0.7165 - val_loss: 1453.7233 - val_acc: 0.7280\n",
      "Epoch 20/30\n",
      "2s - loss: 1500.3663 - acc: 0.7281 - val_loss: 1391.5497 - val_acc: 0.7440\n",
      "Epoch 21/30\n",
      "2s - loss: 1412.7249 - acc: 0.7348 - val_loss: 1353.1956 - val_acc: 0.7440\n",
      "Epoch 22/30\n",
      "2s - loss: 1371.4742 - acc: 0.7391 - val_loss: 1268.0601 - val_acc: 0.7420\n",
      "Epoch 23/30\n",
      "2s - loss: 1294.5692 - acc: 0.7370 - val_loss: 1188.5652 - val_acc: 0.7580\n",
      "Epoch 24/30\n",
      "2s - loss: 1205.5449 - acc: 0.7428 - val_loss: 1148.9402 - val_acc: 0.7520\n",
      "Epoch 25/30\n",
      "2s - loss: 1141.5309 - acc: 0.7424 - val_loss: 1080.8667 - val_acc: 0.7660\n",
      "Epoch 26/30\n",
      "2s - loss: 1086.6307 - acc: 0.7498 - val_loss: 1011.8108 - val_acc: 0.7640\n",
      "Epoch 27/30\n",
      "2s - loss: 1039.5414 - acc: 0.7568 - val_loss: 968.1309 - val_acc: 0.7660\n",
      "Epoch 28/30\n",
      "2s - loss: 985.0391 - acc: 0.7498 - val_loss: 902.8930 - val_acc: 0.7700\n",
      "Epoch 29/30\n",
      "2s - loss: 927.0070 - acc: 0.7605 - val_loss: 865.6604 - val_acc: 0.7660\n",
      "Epoch 30/30\n",
      "2s - loss: 857.1570 - acc: 0.7605 - val_loss: 853.0795 - val_acc: 0.7820\n"
     ]
    },
    {
     "data": {
      "text/plain": [
       "<keras.callbacks.History at 0x7fdfb110a210>"
      ]
     },
     "execution_count": 59,
     "metadata": {},
     "output_type": "execute_result"
    }
   ],
   "source": [
    "model.optimizer.lr = 1e-5\n",
    "model.fit(conv_feat, trn_bbox, batch_size=batch_size, nb_epoch=30, \n",
    "             validation_data=(conv_val_feat, val_bbox), verbose=2)"
   ]
  },
  {
   "cell_type": "code",
   "execution_count": 60,
   "metadata": {
    "collapsed": false,
    "hidden": true
   },
   "outputs": [
    {
     "name": "stdout",
     "output_type": "stream",
     "text": [
      "Train on 3277 samples, validate on 500 samples\n",
      "Epoch 1/30\n",
      "2s - loss: 825.8124 - acc: 0.7623 - val_loss: 797.7941 - val_acc: 0.7860\n",
      "Epoch 2/30\n",
      "2s - loss: 765.1090 - acc: 0.7650 - val_loss: 748.1502 - val_acc: 0.7780\n",
      "Epoch 3/30\n",
      "2s - loss: 730.2598 - acc: 0.7687 - val_loss: 711.0738 - val_acc: 0.7820\n",
      "Epoch 4/30\n",
      "2s - loss: 688.9148 - acc: 0.7724 - val_loss: 669.2100 - val_acc: 0.7920\n",
      "Epoch 5/30\n",
      "2s - loss: 640.8137 - acc: 0.7742 - val_loss: 620.9850 - val_acc: 0.7940\n",
      "Epoch 6/30\n",
      "2s - loss: 614.1211 - acc: 0.7760 - val_loss: 583.1668 - val_acc: 0.8000\n",
      "Epoch 7/30\n",
      "2s - loss: 578.2814 - acc: 0.7812 - val_loss: 561.3465 - val_acc: 0.8020\n",
      "Epoch 8/30\n",
      "2s - loss: 546.0702 - acc: 0.7879 - val_loss: 517.6211 - val_acc: 0.8060\n",
      "Epoch 9/30\n",
      "2s - loss: 524.9505 - acc: 0.7873 - val_loss: 488.7366 - val_acc: 0.8120\n",
      "Epoch 10/30\n",
      "2s - loss: 489.5685 - acc: 0.8029 - val_loss: 463.9397 - val_acc: 0.8120\n",
      "Epoch 11/30\n",
      "2s - loss: 456.9104 - acc: 0.8038 - val_loss: 436.8357 - val_acc: 0.8200\n",
      "Epoch 12/30\n",
      "2s - loss: 443.8040 - acc: 0.7949 - val_loss: 416.8672 - val_acc: 0.8220\n",
      "Epoch 13/30\n",
      "2s - loss: 405.4563 - acc: 0.8013 - val_loss: 404.7180 - val_acc: 0.8200\n",
      "Epoch 14/30\n",
      "2s - loss: 397.9322 - acc: 0.8062 - val_loss: 391.8148 - val_acc: 0.8180\n",
      "Epoch 15/30\n",
      "2s - loss: 381.3451 - acc: 0.7974 - val_loss: 378.4737 - val_acc: 0.8220\n",
      "Epoch 16/30\n",
      "2s - loss: 364.6186 - acc: 0.8087 - val_loss: 352.9969 - val_acc: 0.8160\n",
      "Epoch 17/30\n",
      "2s - loss: 335.7775 - acc: 0.8203 - val_loss: 335.4869 - val_acc: 0.8260\n",
      "Epoch 18/30\n",
      "2s - loss: 325.8921 - acc: 0.8126 - val_loss: 324.0504 - val_acc: 0.8320\n",
      "Epoch 19/30\n",
      "2s - loss: 305.7809 - acc: 0.8251 - val_loss: 328.3970 - val_acc: 0.8360\n",
      "Epoch 20/30\n",
      "2s - loss: 299.1948 - acc: 0.8163 - val_loss: 306.7088 - val_acc: 0.8320\n",
      "Epoch 21/30\n",
      "2s - loss: 287.0731 - acc: 0.8190 - val_loss: 300.0824 - val_acc: 0.8380\n",
      "Epoch 22/30\n",
      "2s - loss: 277.9677 - acc: 0.8224 - val_loss: 292.0762 - val_acc: 0.8360\n",
      "Epoch 23/30\n",
      "2s - loss: 268.3137 - acc: 0.8322 - val_loss: 284.3249 - val_acc: 0.8440\n",
      "Epoch 24/30\n",
      "2s - loss: 264.0146 - acc: 0.8190 - val_loss: 270.0267 - val_acc: 0.8500\n",
      "Epoch 25/30\n",
      "2s - loss: 255.7959 - acc: 0.8346 - val_loss: 263.9966 - val_acc: 0.8580\n",
      "Epoch 26/30\n",
      "2s - loss: 235.8730 - acc: 0.8312 - val_loss: 258.7224 - val_acc: 0.8500\n",
      "Epoch 27/30\n",
      "2s - loss: 237.0303 - acc: 0.8361 - val_loss: 258.1824 - val_acc: 0.8560\n",
      "Epoch 28/30\n",
      "2s - loss: 231.1310 - acc: 0.8319 - val_loss: 252.5042 - val_acc: 0.8520\n",
      "Epoch 29/30\n",
      "2s - loss: 225.8960 - acc: 0.8380 - val_loss: 247.2397 - val_acc: 0.8460\n",
      "Epoch 30/30\n",
      "2s - loss: 227.5357 - acc: 0.8312 - val_loss: 241.5832 - val_acc: 0.8500\n"
     ]
    },
    {
     "data": {
      "text/plain": [
       "<keras.callbacks.History at 0x7fdfb1137a90>"
      ]
     },
     "execution_count": 60,
     "metadata": {},
     "output_type": "execute_result"
    }
   ],
   "source": [
    "model.optimizer.lr = 1e-5\n",
    "model.fit(conv_feat, trn_bbox, batch_size=batch_size, nb_epoch=30, \n",
    "             validation_data=(conv_val_feat, val_bbox), verbose=2)"
   ]
  },
  {
   "cell_type": "code",
   "execution_count": 61,
   "metadata": {
    "collapsed": false,
    "hidden": true
   },
   "outputs": [
    {
     "name": "stdout",
     "output_type": "stream",
     "text": [
      "Train on 3277 samples, validate on 500 samples\n",
      "Epoch 1/10\n",
      "2s - loss: 220.7737 - acc: 0.8279 - val_loss: 238.7968 - val_acc: 0.8460\n",
      "Epoch 2/10\n",
      "2s - loss: 215.5049 - acc: 0.8264 - val_loss: 238.5051 - val_acc: 0.8520\n",
      "Epoch 3/10\n",
      "2s - loss: 213.9078 - acc: 0.8312 - val_loss: 237.1800 - val_acc: 0.8580\n",
      "Epoch 4/10\n",
      "2s - loss: 209.2111 - acc: 0.8355 - val_loss: 238.7369 - val_acc: 0.8500\n",
      "Epoch 5/10\n",
      "2s - loss: 207.3225 - acc: 0.8355 - val_loss: 233.2391 - val_acc: 0.8500\n",
      "Epoch 6/10\n",
      "2s - loss: 200.3777 - acc: 0.8309 - val_loss: 231.3195 - val_acc: 0.8540\n",
      "Epoch 7/10\n",
      "2s - loss: 210.1795 - acc: 0.8267 - val_loss: 228.4655 - val_acc: 0.8420\n",
      "Epoch 8/10\n",
      "2s - loss: 204.4256 - acc: 0.8239 - val_loss: 227.7192 - val_acc: 0.8480\n",
      "Epoch 9/10\n",
      "2s - loss: 199.9840 - acc: 0.8291 - val_loss: 230.8031 - val_acc: 0.8480\n",
      "Epoch 10/10\n",
      "2s - loss: 204.2955 - acc: 0.8325 - val_loss: 227.3752 - val_acc: 0.8460\n"
     ]
    },
    {
     "data": {
      "text/plain": [
       "<keras.callbacks.History at 0x7fdfba73c6d0>"
      ]
     },
     "execution_count": 61,
     "metadata": {},
     "output_type": "execute_result"
    }
   ],
   "source": [
    "model.optimizer.lr = 1e-5\n",
    "model.fit(conv_feat, trn_bbox, batch_size=batch_size, nb_epoch=10, \n",
    "             validation_data=(conv_val_feat, val_bbox), verbose=2)"
   ]
  },
  {
   "cell_type": "markdown",
   "metadata": {},
   "source": [
    "### Fully Conv Net"
   ]
  },
  {
   "cell_type": "code",
   "execution_count": 98,
   "metadata": {
    "collapsed": true
   },
   "outputs": [],
   "source": [
    "nf = 128; p =0.2"
   ]
  },
  {
   "cell_type": "code",
   "execution_count": 103,
   "metadata": {
    "collapsed": true
   },
   "outputs": [],
   "source": [
    "def get_fullconv_layers():\n",
    "    return [\n",
    "        BatchNormalization(axis=1, input_shape=conv_layers[-1].output_shape[1:]),\n",
    "        Convolution2D(nf,3,3, activation='relu', border_mode='same'),\n",
    "        Dropout(p),\n",
    "        BatchNormalization(axis=1),\n",
    "        MaxPooling2D(),       \n",
    "        Convolution2D(nf,3,3, activation='relu', border_mode='same'),\n",
    "        Dropout(p),\n",
    "        BatchNormalization(axis=1),\n",
    "        MaxPooling2D(),\n",
    "       # Convolution2D(nf,3,3, activation='relu', border_mode='same'),\n",
    "       # BatchNormalization(axis=1),\n",
    "       # MaxPooling2D(),\n",
    "        Convolution2D(8,3,3, border_mode='same'),\n",
    "        #Dropout(p),\n",
    "        GlobalAveragePooling2D(),\n",
    "        Activation('softmax')\n",
    "    ]"
   ]
  },
  {
   "cell_type": "code",
   "execution_count": 104,
   "metadata": {
    "collapsed": false
   },
   "outputs": [],
   "source": [
    "fullConv_model = Sequential(get_fullconv_layers())\n",
    "#fullConv_model.summary()"
   ]
  },
  {
   "cell_type": "code",
   "execution_count": 105,
   "metadata": {
    "collapsed": true
   },
   "outputs": [],
   "source": [
    "fullConv_model.compile(optimizer=Adam(lr=0.0001), \n",
    "                       loss='categorical_crossentropy', metrics=['accuracy'])"
   ]
  },
  {
   "cell_type": "code",
   "execution_count": 106,
   "metadata": {
    "collapsed": false,
    "scrolled": true
   },
   "outputs": [
    {
     "name": "stderr",
     "output_type": "stream",
     "text": [
      "INFO (theano.gof.compilelock): Refreshing lock /home/ubuntu/.theano/compiledir_Linux-4.4--generic-x86_64-with-debian-stretch-sid-x86_64-2.7.12-64/lock_dir/lock\n"
     ]
    },
    {
     "name": "stdout",
     "output_type": "stream",
     "text": [
      "Train on 3277 samples, validate on 500 samples\n",
      "Epoch 1/3\n",
      "3s - loss: 1.2067 - acc: 0.6039 - val_loss: 1.0193 - val_acc: 0.7280\n",
      "Epoch 2/3\n",
      "3s - loss: 0.5391 - acc: 0.8523 - val_loss: 0.7077 - val_acc: 0.8760\n",
      "Epoch 3/3\n",
      "3s - loss: 0.3050 - acc: 0.9301 - val_loss: 0.5734 - val_acc: 0.9240\n"
     ]
    },
    {
     "data": {
      "text/plain": [
       "<keras.callbacks.History at 0x7fdf9a89e510>"
      ]
     },
     "execution_count": 106,
     "metadata": {},
     "output_type": "execute_result"
    }
   ],
   "source": [
    "fullConv_model.fit(conv_feat, trn_labels, batch_size=batch_size,nb_epoch=3,\n",
    "                  validation_data=(conv_val_feat,val_labels), verbose=2)"
   ]
  },
  {
   "cell_type": "code",
   "execution_count": 109,
   "metadata": {
    "collapsed": false
   },
   "outputs": [
    {
     "name": "stdout",
     "output_type": "stream",
     "text": [
      "Train on 3277 samples, validate on 500 samples\n",
      "Epoch 1/8\n",
      "3s - loss: 0.1767 - acc: 0.9695 - val_loss: 0.4553 - val_acc: 0.9340\n",
      "Epoch 2/8\n",
      "3s - loss: 0.1114 - acc: 0.9875 - val_loss: 0.3707 - val_acc: 0.9400\n",
      "Epoch 3/8\n",
      "3s - loss: 0.0725 - acc: 0.9933 - val_loss: 0.3119 - val_acc: 0.9440\n",
      "Epoch 4/8\n",
      "3s - loss: 0.0480 - acc: 0.9976 - val_loss: 0.2514 - val_acc: 0.9420\n",
      "Epoch 5/8\n",
      "3s - loss: 0.0329 - acc: 0.9991 - val_loss: 0.2190 - val_acc: 0.9400\n",
      "Epoch 6/8\n",
      "3s - loss: 0.0246 - acc: 0.9994 - val_loss: 0.1876 - val_acc: 0.9560\n",
      "Epoch 7/8\n",
      "3s - loss: 0.0201 - acc: 1.0000 - val_loss: 0.1746 - val_acc: 0.9560\n",
      "Epoch 8/8\n",
      "3s - loss: 0.0149 - acc: 1.0000 - val_loss: 0.1570 - val_acc: 0.9600\n"
     ]
    },
    {
     "data": {
      "text/plain": [
       "<keras.callbacks.History at 0x7fdf9ceea890>"
      ]
     },
     "execution_count": 109,
     "metadata": {},
     "output_type": "execute_result"
    }
   ],
   "source": [
    "fullConv_model.optimizer.lr=1e-6\n",
    "fullConv_model.fit(conv_feat, trn_labels, batch_size=batch_size,nb_epoch=8,\n",
    "                  validation_data=(conv_val_feat,val_labels), verbose=2)"
   ]
  },
  {
   "cell_type": "code",
   "execution_count": 110,
   "metadata": {
    "collapsed": false
   },
   "outputs": [
    {
     "name": "stdout",
     "output_type": "stream",
     "text": [
      "Train on 3277 samples, validate on 500 samples\n",
      "Epoch 1/3\n",
      "3s - loss: 0.0134 - acc: 1.0000 - val_loss: 0.1550 - val_acc: 0.9540\n",
      "Epoch 2/3\n",
      "3s - loss: 0.0111 - acc: 1.0000 - val_loss: 0.1468 - val_acc: 0.9660\n",
      "Epoch 3/3\n",
      "3s - loss: 0.0088 - acc: 1.0000 - val_loss: 0.1432 - val_acc: 0.9580\n"
     ]
    },
    {
     "data": {
      "text/plain": [
       "<keras.callbacks.History at 0x7fdf99e867d0>"
      ]
     },
     "execution_count": 110,
     "metadata": {},
     "output_type": "execute_result"
    }
   ],
   "source": [
    "fullConv_model.fit(conv_feat, trn_labels, batch_size=batch_size,nb_epoch=3,\n",
    "                  validation_data=(conv_val_feat,val_labels), verbose=2)"
   ]
  },
  {
   "cell_type": "code",
   "execution_count": 112,
   "metadata": {
    "collapsed": false
   },
   "outputs": [
    {
     "name": "stdout",
     "output_type": "stream",
     "text": [
      "Train on 3277 samples, validate on 500 samples\n",
      "Epoch 1/8\n",
      "3s - loss: 0.0029 - acc: 1.0000 - val_loss: 0.1156 - val_acc: 0.9660\n",
      "Epoch 2/8\n",
      "3s - loss: 0.0025 - acc: 1.0000 - val_loss: 0.1137 - val_acc: 0.9660\n",
      "Epoch 3/8\n",
      "3s - loss: 0.0024 - acc: 1.0000 - val_loss: 0.1134 - val_acc: 0.9640\n",
      "Epoch 4/8\n",
      "3s - loss: 0.0023 - acc: 1.0000 - val_loss: 0.1135 - val_acc: 0.9660\n",
      "Epoch 5/8\n",
      "3s - loss: 0.0021 - acc: 1.0000 - val_loss: 0.1097 - val_acc: 0.9700\n",
      "Epoch 6/8\n",
      "3s - loss: 0.0020 - acc: 1.0000 - val_loss: 0.1110 - val_acc: 0.9700\n",
      "Epoch 7/8\n",
      "3s - loss: 0.0019 - acc: 1.0000 - val_loss: 0.1106 - val_acc: 0.9680\n",
      "Epoch 8/8\n",
      "3s - loss: 0.0020 - acc: 1.0000 - val_loss: 0.1113 - val_acc: 0.9660\n"
     ]
    },
    {
     "data": {
      "text/plain": [
       "<keras.callbacks.History at 0x7fdf9a89ea50>"
      ]
     },
     "execution_count": 112,
     "metadata": {},
     "output_type": "execute_result"
    }
   ],
   "source": [
    "fullConv_model.fit(conv_feat, trn_labels, batch_size=batch_size,nb_epoch=8,\n",
    "                  validation_data=(conv_val_feat,val_labels), verbose=2)"
   ]
  },
  {
   "cell_type": "markdown",
   "metadata": {
    "deletable": true,
    "editable": true
   },
   "source": [
    "## Predict"
   ]
  },
  {
   "cell_type": "code",
   "execution_count": 37,
   "metadata": {
    "collapsed": true,
    "deletable": true,
    "editable": true
   },
   "outputs": [],
   "source": [
    "opreds = model.predict(test,batch_size=64)\n",
    "files = [f.split('/')[-1] for f in test_filenames]"
   ]
  },
  {
   "cell_type": "markdown",
   "metadata": {
    "deletable": true,
    "editable": true
   },
   "source": [
    "#### Predicitng on Conv features"
   ]
  },
  {
   "cell_type": "code",
   "execution_count": 113,
   "metadata": {
    "collapsed": false,
    "deletable": true,
    "editable": true
   },
   "outputs": [],
   "source": [
    "opreds = fullConv_model.predict(conv_test_feat,batch_size=64)\n",
    "files = [f.split('/')[-1] for f in test_filenames]"
   ]
  },
  {
   "cell_type": "code",
   "execution_count": 114,
   "metadata": {
    "collapsed": false,
    "deletable": true,
    "editable": true
   },
   "outputs": [],
   "source": [
    "preds = np.clip(opreds,0.04,0.96)\n",
    "import pandas as pd\n",
    "df = pd.DataFrame(preds, columns=['ALB', 'BET', 'DOL', 'LAG', 'NoF', 'OTHER', 'SHARK', 'YFT'])\n",
    "df.insert(0,'image', files)\n",
    "subFile = results_path + 'fullyConvModel_Adam_0_11_96clip.csv'\n",
    "df.to_csv(subFile, index=False)"
   ]
  },
  {
   "cell_type": "markdown",
   "metadata": {
    "deletable": true,
    "editable": true
   },
   "source": [
    "#### Preds on convfeatures wiht bb;s"
   ]
  },
  {
   "cell_type": "code",
   "execution_count": 117,
   "metadata": {
    "collapsed": true,
    "deletable": true,
    "editable": true
   },
   "outputs": [],
   "source": [
    "opreds = model.predict(conv_test_feat,batch_size=64)\n",
    "files = [f.split('/')[-1] for f in test_filenames]"
   ]
  },
  {
   "cell_type": "code",
   "execution_count": 119,
   "metadata": {
    "collapsed": true,
    "deletable": true,
    "editable": true
   },
   "outputs": [],
   "source": [
    "preds = np.clip(opreds[1],0.05,0.95)\n",
    "import pandas as pd\n",
    "df = pd.DataFrame(preds, columns=['ALB', 'BET', 'DOL', 'LAG', 'NoF', 'OTHER', 'SHARK', 'YFT'])\n",
    "df.insert(0,'image', files)\n",
    "subFile = results_path + 'fcModel_bn_bb_Adam_0_10_95clip.csv'\n",
    "df.to_csv(subFile, index=False)"
   ]
  },
  {
   "cell_type": "code",
   "execution_count": null,
   "metadata": {
    "collapsed": true,
    "deletable": true,
    "editable": true
   },
   "outputs": [],
   "source": []
  }
 ],
 "metadata": {
  "kernelspec": {
   "display_name": "Python [conda root]",
   "language": "python",
   "name": "conda-root-py"
  },
  "language_info": {
   "codemirror_mode": {
    "name": "ipython",
    "version": 2
   },
   "file_extension": ".py",
   "mimetype": "text/x-python",
   "name": "python",
   "nbconvert_exporter": "python",
   "pygments_lexer": "ipython2",
   "version": "2.7.12"
  }
 },
 "nbformat": 4,
 "nbformat_minor": 2
}
