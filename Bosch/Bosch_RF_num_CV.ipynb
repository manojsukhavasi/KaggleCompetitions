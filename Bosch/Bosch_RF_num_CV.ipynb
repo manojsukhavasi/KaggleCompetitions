{
 "cells": [
  {
   "cell_type": "code",
   "execution_count": 1,
   "metadata": {
    "collapsed": true
   },
   "outputs": [],
   "source": [
    "import pandas as pd\n",
    "import numpy as np\n",
    "from sklearn.ensemble import RandomForestClassifier\n",
    "from sklearn.grid_search import GridSearchCV\n",
    "from sklearn.cross_validation import train_test_split\n",
    "from sklearn.metrics import matthews_corrcoef, make_scorer"
   ]
  },
  {
   "cell_type": "code",
   "execution_count": 2,
   "metadata": {
    "collapsed": false
   },
   "outputs": [
    {
     "name": "stderr",
     "output_type": "stream",
     "text": [
      "/home/manpun/anaconda3/lib/python3.5/site-packages/numpy/lib/function_base.py:3834: RuntimeWarning: Invalid value encountered in percentile\n",
      "  RuntimeWarning)\n"
     ]
    }
   ],
   "source": [
    "# reading in sample data and then reducing the no of columns on the avaialbity of data\n",
    "numerical_data = pd.read_csv(\"../bosch/train_numeric_sample.csv\")\n",
    "# considering columns with only > 5000 entries\n",
    "num_data_des = numerical_data.describe()\n",
    "column_fill = num_data_des.ix['count']\n",
    "column_fill = column_fill.drop('Id')\n",
    "column_fill = column_fill.drop('Response')\n",
    "columns = column_fill[column_fill>5000]\n",
    "# finding the columns is done on only sample data. Now read the full train data snd train the classifier.\n"
   ]
  },
  {
   "cell_type": "code",
   "execution_count": 3,
   "metadata": {
    "collapsed": true
   },
   "outputs": [],
   "source": [
    "#Sample data for processing\n",
    "num_data_concise = numerical_data[columns.index]\n",
    "y_data_concise = numerical_data['Response']"
   ]
  },
  {
   "cell_type": "code",
   "execution_count": null,
   "metadata": {
    "collapsed": true
   },
   "outputs": [],
   "source": [
    "num_data_concise = pd.read_csv(\"../bosch/train_numeric.csv\", usecols = columns.index)\n",
    "y_data_concise = pd.read_csv('../bosch/train_numeric.csv', usecols = ['Response'])"
   ]
  },
  {
   "cell_type": "code",
   "execution_count": 4,
   "metadata": {
    "collapsed": false
   },
   "outputs": [],
   "source": [
    "# filling the NAn with means for now.\n",
    "# think of any pattern to fit the missing data\n",
    "num_data_concise = num_data_concise.fillna(num_data_concise.mean())\n",
    "X = num_data_concise;\n",
    "#Y = y_data_concise.astype(int)\n",
    "Y , _ = pd.factorize(y_data_concise)\n",
    "# we got the final clean data to send it to the classifier."
   ]
  },
  {
   "cell_type": "code",
   "execution_count": 20,
   "metadata": {
    "collapsed": false
   },
   "outputs": [],
   "source": [
    "def threshold_finder(clf, Xvalid, Yvalid):\n",
    "    class_labels = clf.classes_\n",
    "    print (class_labels)\n",
    "    Ypred = clf.predict_proba(Xvalid)\n",
    "    Yv = Yvalid.astype(int)\n",
    "    best_score = 0\n",
    "    best = -2\n",
    "    for t in np.arange(0.4,0.8,0.1):\n",
    "        print (t)\n",
    "        Ypre = np.array(Ypred>t)\n",
    "        Ypr = Ypre[:,1]\n",
    "        Yp = Ypr.astype(int)\n",
    "        print (Yp.mean())\n",
    "        score = matthews_corrcoef(Yv, Yp)\n",
    "        print (score)\n",
    "        if (score > best_score):\n",
    "            best_score = score\n",
    "            best = t\n",
    "    print ('Best score :', best_score , 'threshold : ', best)\n",
    "    return best_score\n",
    "\n",
    "def tFinder(Yvalid,Yprob):\n",
    "    Yv = Yvalid.astype(int)\n",
    "    best_score = -2\n",
    "    best = 0\n",
    "    for t in np.arange(0.4,0.8,0.1):\n",
    "        print (t)\n",
    "        Ypre = np.array(Yprob>t)\n",
    "        Yp = Ypre.astype(int)\n",
    "        print (Yp.mean())\n",
    "        score = matthews_corrcoef(Yv, Yp)\n",
    "        print (score)\n",
    "        if (score > best_score):\n",
    "            best_score = score\n",
    "            best = t\n",
    "    return best_score\n",
    "\n",
    "\n",
    "tmcc = make_scorer(tFinder)\n",
    "#scoring mechanism to be passed to Gridsearchcv\n",
    "mcc = make_scorer(matthews_corrcoef)"
   ]
  },
  {
   "cell_type": "code",
   "execution_count": 25,
   "metadata": {
    "collapsed": false
   },
   "outputs": [],
   "source": [
    "# defining a function to cross validate the training;\n",
    "def cv_optimize(clf, parameters, Xtrain, Ytrain, nfolds=4):\n",
    "    gs = GridSearchCV(clf, param_grid=parameters, cv = nfolds, n_jobs = 1, pre_dispatch= '2*n_jobs', scoring = 'average_precision')\n",
    "    gs.fit(Xtrain,Ytrain)\n",
    "    print (\"Best params\")\n",
    "    print (gs.best_params_)\n",
    "    best = gs.best_estimator_\n",
    "    return best\n",
    "\n",
    "def classify(clf, parameters,X,Y, train_size=0.8):\n",
    "    # first splitting the availabe data set to train and test \n",
    "    Xtrain, Xtest, Ytrain, Ytest = train_test_split(X,Y,train_size=train_size) \n",
    "    clf = cv_optimize(clf, parameters, Xtrain, Ytrain)\n",
    "    clf.set_params(n_jobs=4)\n",
    "    clf=clf.fit(Xtrain, Ytrain)\n",
    "    test_score = threshold_finder(clf, Xtest, Ytest)\n",
    "    print ('Final test score' , test_score)\n",
    "    return clf"
   ]
  },
  {
   "cell_type": "code",
   "execution_count": null,
   "metadata": {
    "collapsed": false
   },
   "outputs": [],
   "source": []
  },
  {
   "cell_type": "code",
   "execution_count": 26,
   "metadata": {
    "collapsed": false
   },
   "outputs": [
    {
     "name": "stdout",
     "output_type": "stream",
     "text": [
      "Best params\n",
      "{'n_estimators': 200, 'max_depth': 6}\n",
      "[0 1]\n",
      "0.4\n",
      "0.0\n",
      "0.0\n",
      "0.5\n",
      "0.0\n",
      "0.0\n",
      "0.6\n",
      "0.0\n",
      "0.0\n",
      "0.7\n",
      "0.0\n",
      "0.0\n",
      "Best score : 0 threshold :  -2\n",
      "Final test score 0\n"
     ]
    }
   ],
   "source": [
    "rf = classify(RandomForestClassifier(n_jobs=4), {'n_estimators' : [100, 200, 400, 800], 'max_depth': [3,6,9,12]},X , Y, train_size =0.8)"
   ]
  },
  {
   "cell_type": "code",
   "execution_count": null,
   "metadata": {
    "collapsed": false
   },
   "outputs": [],
   "source": [
    "rf = RandomForestClassifier(n_estimators = 1500, max_depth = 12, n_jobs =4, class_weight ='balanced')\n",
    "rf.fit(X,Y)"
   ]
  },
  {
   "cell_type": "code",
   "execution_count": null,
   "metadata": {
    "collapsed": true
   },
   "outputs": [],
   "source": [
    "Ypred = rf.predict_proba(X)"
   ]
  },
  {
   "cell_type": "code",
   "execution_count": null,
   "metadata": {
    "collapsed": false,
    "scrolled": true
   },
   "outputs": [],
   "source": [
    "threshold_finder(rf,X,Y)"
   ]
  },
  {
   "cell_type": "code",
   "execution_count": null,
   "metadata": {
    "collapsed": false
   },
   "outputs": [],
   "source": [
    "Ypred = Ypred>0.5\n",
    "type(Ypred)\n",
    "Ypr = Ypred[:,1]\n",
    "Ypr.astype(int)"
   ]
  },
  {
   "cell_type": "code",
   "execution_count": null,
   "metadata": {
    "collapsed": false
   },
   "outputs": [],
   "source": [
    "Y.astype(int)\n",
    "matthews_corrcoef(Y,Ypr)"
   ]
  },
  {
   "cell_type": "code",
   "execution_count": null,
   "metadata": {
    "collapsed": false
   },
   "outputs": [],
   "source": [
    "type_true = type_of_target(y_true)\n",
    "type_pred = type_of_target(y_pred)"
   ]
  },
  {
   "cell_type": "code",
   "execution_count": null,
   "metadata": {
    "collapsed": false
   },
   "outputs": [],
   "source": [
    "X = pd.DataFrame()\n",
    "num_data_concise = pd.DataFrame()"
   ]
  },
  {
   "cell_type": "markdown",
   "metadata": {},
   "source": [
    "Reading the test data to predict the failures. First we have to read in all the data, then take the only sleceted columns as per trainig. Then fill Na's with mean adn then classify/predict."
   ]
  },
  {
   "cell_type": "code",
   "execution_count": null,
   "metadata": {
    "collapsed": true
   },
   "outputs": [],
   "source": [
    "test_data = pd.read_csv('../bosch/test_numeric.csv', usecols = columns.index)\n",
    "test_data = test_data.fillna(test_data.mean())\n",
    "results = rf.predict(test_data)"
   ]
  },
  {
   "cell_type": "code",
   "execution_count": null,
   "metadata": {
    "collapsed": false
   },
   "outputs": [],
   "source": [
    "resultsp = rf.predict_proba(test_data)\n",
    "t = [x[1] for x in resultsp]\n",
    "t =np.array(t)\n",
    "t = t > 0.65\n",
    "t = t.astype(int)\n",
    "t.mean()"
   ]
  },
  {
   "cell_type": "code",
   "execution_count": null,
   "metadata": {
    "collapsed": true
   },
   "outputs": [],
   "source": [
    "test_id = pd.read_csv('../bosch/test_numeric.csv', usecols = ['Id'])\n",
    "submission = pd.DataFrame()\n",
    "submission['Id'] = test_id['Id']\n",
    "submission['Response'] = t\n",
    "submission.to_csv('balanced_rf_100_3_65.csv', index = False)"
   ]
  },
  {
   "cell_type": "code",
   "execution_count": null,
   "metadata": {
    "collapsed": false
   },
   "outputs": [],
   "source": [
    "%reset_selective test_data"
   ]
  },
  {
   "cell_type": "code",
   "execution_count": null,
   "metadata": {
    "collapsed": true
   },
   "outputs": [],
   "source": []
  }
 ],
 "metadata": {
  "anaconda-cloud": {},
  "kernelspec": {
   "display_name": "Python [Root]",
   "language": "python",
   "name": "Python [Root]"
  },
  "language_info": {
   "codemirror_mode": {
    "name": "ipython",
    "version": 3
   },
   "file_extension": ".py",
   "mimetype": "text/x-python",
   "name": "python",
   "nbconvert_exporter": "python",
   "pygments_lexer": "ipython3",
   "version": "3.5.2"
  }
 },
 "nbformat": 4,
 "nbformat_minor": 0
}
