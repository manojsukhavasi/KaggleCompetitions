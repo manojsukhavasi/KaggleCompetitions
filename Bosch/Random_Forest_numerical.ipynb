{
 "cells": [
  {
   "cell_type": "code",
   "execution_count": 1,
   "metadata": {
    "collapsed": false
   },
   "outputs": [],
   "source": [
    "import pandas as pd\n",
    "import numpy as np\n",
    "from sklearn.ensemble import RandomForestClassifier\n",
    "from sklearn import svm"
   ]
  },
  {
   "cell_type": "code",
   "execution_count": 2,
   "metadata": {
    "collapsed": false
   },
   "outputs": [],
   "source": [
    "numerical_data = pd.read_csv(\"../bosch/train_numeric_sample.csv\")"
   ]
  },
  {
   "cell_type": "code",
   "execution_count": 3,
   "metadata": {
    "collapsed": false
   },
   "outputs": [
    {
     "name": "stderr",
     "output_type": "stream",
     "text": [
      "/home/manpun/anaconda3/lib/python3.5/site-packages/numpy/lib/function_base.py:3834: RuntimeWarning: Invalid value encountered in percentile\n",
      "  RuntimeWarning)\n"
     ]
    },
    {
     "data": {
      "text/html": [
       "<div>\n",
       "<table border=\"1\" class=\"dataframe\">\n",
       "  <thead>\n",
       "    <tr style=\"text-align: right;\">\n",
       "      <th></th>\n",
       "      <th>Id</th>\n",
       "      <th>L0_S0_F0</th>\n",
       "      <th>L0_S0_F2</th>\n",
       "      <th>L0_S0_F4</th>\n",
       "      <th>L0_S0_F6</th>\n",
       "      <th>L0_S0_F8</th>\n",
       "      <th>L0_S0_F10</th>\n",
       "      <th>L0_S0_F12</th>\n",
       "      <th>L0_S0_F14</th>\n",
       "      <th>L0_S0_F16</th>\n",
       "      <th>...</th>\n",
       "      <th>L3_S50_F4245</th>\n",
       "      <th>L3_S50_F4247</th>\n",
       "      <th>L3_S50_F4249</th>\n",
       "      <th>L3_S50_F4251</th>\n",
       "      <th>L3_S50_F4253</th>\n",
       "      <th>L3_S51_F4256</th>\n",
       "      <th>L3_S51_F4258</th>\n",
       "      <th>L3_S51_F4260</th>\n",
       "      <th>L3_S51_F4262</th>\n",
       "      <th>Response</th>\n",
       "    </tr>\n",
       "  </thead>\n",
       "  <tbody>\n",
       "    <tr>\n",
       "      <th>count</th>\n",
       "      <td>1.000000e+04</td>\n",
       "      <td>5748.000000</td>\n",
       "      <td>5748.000000</td>\n",
       "      <td>5748.000000</td>\n",
       "      <td>5748.000000</td>\n",
       "      <td>5748.000000</td>\n",
       "      <td>5748.000000</td>\n",
       "      <td>5748.000000</td>\n",
       "      <td>5748.000000</td>\n",
       "      <td>5748.000000</td>\n",
       "      <td>...</td>\n",
       "      <td>268.000000</td>\n",
       "      <td>268.0</td>\n",
       "      <td>268.000000</td>\n",
       "      <td>268.000000</td>\n",
       "      <td>268.000000</td>\n",
       "      <td>529.000000</td>\n",
       "      <td>529.0</td>\n",
       "      <td>529.000000</td>\n",
       "      <td>529.000000</td>\n",
       "      <td>10000.000000</td>\n",
       "    </tr>\n",
       "    <tr>\n",
       "      <th>mean</th>\n",
       "      <td>1.183132e+06</td>\n",
       "      <td>-0.001021</td>\n",
       "      <td>-0.001207</td>\n",
       "      <td>0.000423</td>\n",
       "      <td>0.000480</td>\n",
       "      <td>-0.000467</td>\n",
       "      <td>-0.001063</td>\n",
       "      <td>0.000195</td>\n",
       "      <td>0.000923</td>\n",
       "      <td>0.001990</td>\n",
       "      <td>...</td>\n",
       "      <td>-0.000004</td>\n",
       "      <td>0.0</td>\n",
       "      <td>0.000463</td>\n",
       "      <td>0.000246</td>\n",
       "      <td>0.009328</td>\n",
       "      <td>-0.000006</td>\n",
       "      <td>0.0</td>\n",
       "      <td>0.000008</td>\n",
       "      <td>0.000049</td>\n",
       "      <td>0.006000</td>\n",
       "    </tr>\n",
       "    <tr>\n",
       "      <th>std</th>\n",
       "      <td>6.797952e+05</td>\n",
       "      <td>0.079430</td>\n",
       "      <td>0.091491</td>\n",
       "      <td>0.211323</td>\n",
       "      <td>0.211789</td>\n",
       "      <td>0.093896</td>\n",
       "      <td>0.165285</td>\n",
       "      <td>0.019252</td>\n",
       "      <td>0.103570</td>\n",
       "      <td>0.113755</td>\n",
       "      <td>...</td>\n",
       "      <td>0.000061</td>\n",
       "      <td>0.0</td>\n",
       "      <td>0.006811</td>\n",
       "      <td>0.003260</td>\n",
       "      <td>0.250293</td>\n",
       "      <td>0.000075</td>\n",
       "      <td>0.0</td>\n",
       "      <td>0.000123</td>\n",
       "      <td>0.000635</td>\n",
       "      <td>0.077231</td>\n",
       "    </tr>\n",
       "    <tr>\n",
       "      <th>min</th>\n",
       "      <td>3.160000e+02</td>\n",
       "      <td>-0.382000</td>\n",
       "      <td>-0.437000</td>\n",
       "      <td>-0.397000</td>\n",
       "      <td>-0.397000</td>\n",
       "      <td>-0.404000</td>\n",
       "      <td>-0.566000</td>\n",
       "      <td>-0.044000</td>\n",
       "      <td>-0.232000</td>\n",
       "      <td>-0.378000</td>\n",
       "      <td>...</td>\n",
       "      <td>-0.001000</td>\n",
       "      <td>0.0</td>\n",
       "      <td>0.000000</td>\n",
       "      <td>0.000000</td>\n",
       "      <td>-0.250000</td>\n",
       "      <td>-0.001000</td>\n",
       "      <td>0.0</td>\n",
       "      <td>0.000000</td>\n",
       "      <td>0.000000</td>\n",
       "      <td>0.000000</td>\n",
       "    </tr>\n",
       "    <tr>\n",
       "      <th>25%</th>\n",
       "      <td>5.889585e+05</td>\n",
       "      <td>NaN</td>\n",
       "      <td>NaN</td>\n",
       "      <td>NaN</td>\n",
       "      <td>NaN</td>\n",
       "      <td>NaN</td>\n",
       "      <td>NaN</td>\n",
       "      <td>NaN</td>\n",
       "      <td>NaN</td>\n",
       "      <td>NaN</td>\n",
       "      <td>...</td>\n",
       "      <td>NaN</td>\n",
       "      <td>NaN</td>\n",
       "      <td>NaN</td>\n",
       "      <td>NaN</td>\n",
       "      <td>NaN</td>\n",
       "      <td>NaN</td>\n",
       "      <td>NaN</td>\n",
       "      <td>NaN</td>\n",
       "      <td>NaN</td>\n",
       "      <td>0.000000</td>\n",
       "    </tr>\n",
       "    <tr>\n",
       "      <th>50%</th>\n",
       "      <td>1.184593e+06</td>\n",
       "      <td>NaN</td>\n",
       "      <td>NaN</td>\n",
       "      <td>NaN</td>\n",
       "      <td>NaN</td>\n",
       "      <td>NaN</td>\n",
       "      <td>NaN</td>\n",
       "      <td>NaN</td>\n",
       "      <td>NaN</td>\n",
       "      <td>NaN</td>\n",
       "      <td>...</td>\n",
       "      <td>NaN</td>\n",
       "      <td>NaN</td>\n",
       "      <td>NaN</td>\n",
       "      <td>NaN</td>\n",
       "      <td>NaN</td>\n",
       "      <td>NaN</td>\n",
       "      <td>NaN</td>\n",
       "      <td>NaN</td>\n",
       "      <td>NaN</td>\n",
       "      <td>0.000000</td>\n",
       "    </tr>\n",
       "    <tr>\n",
       "      <th>75%</th>\n",
       "      <td>1.769318e+06</td>\n",
       "      <td>NaN</td>\n",
       "      <td>NaN</td>\n",
       "      <td>NaN</td>\n",
       "      <td>NaN</td>\n",
       "      <td>NaN</td>\n",
       "      <td>NaN</td>\n",
       "      <td>NaN</td>\n",
       "      <td>NaN</td>\n",
       "      <td>NaN</td>\n",
       "      <td>...</td>\n",
       "      <td>NaN</td>\n",
       "      <td>NaN</td>\n",
       "      <td>NaN</td>\n",
       "      <td>NaN</td>\n",
       "      <td>NaN</td>\n",
       "      <td>NaN</td>\n",
       "      <td>NaN</td>\n",
       "      <td>NaN</td>\n",
       "      <td>NaN</td>\n",
       "      <td>0.000000</td>\n",
       "    </tr>\n",
       "    <tr>\n",
       "      <th>max</th>\n",
       "      <td>2.367476e+06</td>\n",
       "      <td>0.265000</td>\n",
       "      <td>0.265000</td>\n",
       "      <td>0.567000</td>\n",
       "      <td>0.566000</td>\n",
       "      <td>0.292000</td>\n",
       "      <td>0.206000</td>\n",
       "      <td>0.082000</td>\n",
       "      <td>0.488000</td>\n",
       "      <td>0.469000</td>\n",
       "      <td>...</td>\n",
       "      <td>0.000000</td>\n",
       "      <td>0.0</td>\n",
       "      <td>0.111000</td>\n",
       "      <td>0.053000</td>\n",
       "      <td>0.250000</td>\n",
       "      <td>0.000000</td>\n",
       "      <td>0.0</td>\n",
       "      <td>0.002000</td>\n",
       "      <td>0.014000</td>\n",
       "      <td>1.000000</td>\n",
       "    </tr>\n",
       "  </tbody>\n",
       "</table>\n",
       "<p>8 rows × 970 columns</p>\n",
       "</div>"
      ],
      "text/plain": [
       "                 Id     L0_S0_F0     L0_S0_F2     L0_S0_F4     L0_S0_F6  \\\n",
       "count  1.000000e+04  5748.000000  5748.000000  5748.000000  5748.000000   \n",
       "mean   1.183132e+06    -0.001021    -0.001207     0.000423     0.000480   \n",
       "std    6.797952e+05     0.079430     0.091491     0.211323     0.211789   \n",
       "min    3.160000e+02    -0.382000    -0.437000    -0.397000    -0.397000   \n",
       "25%    5.889585e+05          NaN          NaN          NaN          NaN   \n",
       "50%    1.184593e+06          NaN          NaN          NaN          NaN   \n",
       "75%    1.769318e+06          NaN          NaN          NaN          NaN   \n",
       "max    2.367476e+06     0.265000     0.265000     0.567000     0.566000   \n",
       "\n",
       "          L0_S0_F8    L0_S0_F10    L0_S0_F12    L0_S0_F14    L0_S0_F16  \\\n",
       "count  5748.000000  5748.000000  5748.000000  5748.000000  5748.000000   \n",
       "mean     -0.000467    -0.001063     0.000195     0.000923     0.001990   \n",
       "std       0.093896     0.165285     0.019252     0.103570     0.113755   \n",
       "min      -0.404000    -0.566000    -0.044000    -0.232000    -0.378000   \n",
       "25%            NaN          NaN          NaN          NaN          NaN   \n",
       "50%            NaN          NaN          NaN          NaN          NaN   \n",
       "75%            NaN          NaN          NaN          NaN          NaN   \n",
       "max       0.292000     0.206000     0.082000     0.488000     0.469000   \n",
       "\n",
       "           ...       L3_S50_F4245  L3_S50_F4247  L3_S50_F4249  L3_S50_F4251  \\\n",
       "count      ...         268.000000         268.0    268.000000    268.000000   \n",
       "mean       ...          -0.000004           0.0      0.000463      0.000246   \n",
       "std        ...           0.000061           0.0      0.006811      0.003260   \n",
       "min        ...          -0.001000           0.0      0.000000      0.000000   \n",
       "25%        ...                NaN           NaN           NaN           NaN   \n",
       "50%        ...                NaN           NaN           NaN           NaN   \n",
       "75%        ...                NaN           NaN           NaN           NaN   \n",
       "max        ...           0.000000           0.0      0.111000      0.053000   \n",
       "\n",
       "       L3_S50_F4253  L3_S51_F4256  L3_S51_F4258  L3_S51_F4260  L3_S51_F4262  \\\n",
       "count    268.000000    529.000000         529.0    529.000000    529.000000   \n",
       "mean       0.009328     -0.000006           0.0      0.000008      0.000049   \n",
       "std        0.250293      0.000075           0.0      0.000123      0.000635   \n",
       "min       -0.250000     -0.001000           0.0      0.000000      0.000000   \n",
       "25%             NaN           NaN           NaN           NaN           NaN   \n",
       "50%             NaN           NaN           NaN           NaN           NaN   \n",
       "75%             NaN           NaN           NaN           NaN           NaN   \n",
       "max        0.250000      0.000000           0.0      0.002000      0.014000   \n",
       "\n",
       "           Response  \n",
       "count  10000.000000  \n",
       "mean       0.006000  \n",
       "std        0.077231  \n",
       "min        0.000000  \n",
       "25%        0.000000  \n",
       "50%        0.000000  \n",
       "75%        0.000000  \n",
       "max        1.000000  \n",
       "\n",
       "[8 rows x 970 columns]"
      ]
     },
     "execution_count": 3,
     "metadata": {},
     "output_type": "execute_result"
    }
   ],
   "source": [
    "num_data_des = numerical_data.describe()\n",
    "num_data_des"
   ]
  },
  {
   "cell_type": "code",
   "execution_count": 4,
   "metadata": {
    "collapsed": true
   },
   "outputs": [],
   "source": [
    "column_fill = num_data_des.ix['count']\n",
    "column_fill = column_fill.drop('Id')\n",
    "column_fill = column_fill.drop('Response')"
   ]
  },
  {
   "cell_type": "code",
   "execution_count": 5,
   "metadata": {
    "collapsed": true
   },
   "outputs": [],
   "source": [
    "columns = column_fill[column_fill>5000]\n",
    "num_data_concise = numerical_data[columns.index]"
   ]
  },
  {
   "cell_type": "code",
   "execution_count": 6,
   "metadata": {
    "collapsed": false
   },
   "outputs": [
    {
     "name": "stderr",
     "output_type": "stream",
     "text": [
      "/home/manpun/anaconda3/lib/python3.5/site-packages/ipykernel/__main__.py:1: SettingWithCopyWarning: \n",
      "A value is trying to be set on a copy of a slice from a DataFrame.\n",
      "Try using .loc[row_indexer,col_indexer] = value instead\n",
      "\n",
      "See the caveats in the documentation: http://pandas.pydata.org/pandas-docs/stable/indexing.html#indexing-view-versus-copy\n",
      "  if __name__ == '__main__':\n",
      "/home/manpun/anaconda3/lib/python3.5/site-packages/ipykernel/__main__.py:2: SettingWithCopyWarning: \n",
      "A value is trying to be set on a copy of a slice from a DataFrame.\n",
      "Try using .loc[row_indexer,col_indexer] = value instead\n",
      "\n",
      "See the caveats in the documentation: http://pandas.pydata.org/pandas-docs/stable/indexing.html#indexing-view-versus-copy\n",
      "  from ipykernel import kernelapp as app\n"
     ]
    }
   ],
   "source": [
    "num_data_concise['Id'] = numerical_data['Id']\n",
    "num_data_concise['Response'] = numerical_data['Response']"
   ]
  },
  {
   "cell_type": "code",
   "execution_count": 7,
   "metadata": {
    "collapsed": false
   },
   "outputs": [
    {
     "data": {
      "text/plain": [
       "(10000, 158)"
      ]
     },
     "execution_count": 7,
     "metadata": {},
     "output_type": "execute_result"
    }
   ],
   "source": [
    "num_data_concise.head()\n",
    "num_data_concise.shape"
   ]
  },
  {
   "cell_type": "code",
   "execution_count": 8,
   "metadata": {
    "collapsed": true
   },
   "outputs": [],
   "source": [
    "num_data = num_data_concise.fillna(num_data_concise.mean())"
   ]
  },
  {
   "cell_type": "code",
   "execution_count": 103,
   "metadata": {
    "collapsed": true
   },
   "outputs": [],
   "source": [
    "rf = RandomForestClassifier(n_estimators = 200, max_depth = 20)"
   ]
  },
  {
   "cell_type": "code",
   "execution_count": 9,
   "metadata": {
    "collapsed": true
   },
   "outputs": [],
   "source": [
    "y, _ = pd.factorize(num_data['Response'])"
   ]
  },
  {
   "cell_type": "code",
   "execution_count": 104,
   "metadata": {
    "collapsed": false
   },
   "outputs": [
    {
     "data": {
      "text/plain": [
       "RandomForestClassifier(bootstrap=True, class_weight=None, criterion='gini',\n",
       "            max_depth=20, max_features='auto', max_leaf_nodes=None,\n",
       "            min_samples_leaf=1, min_samples_split=2,\n",
       "            min_weight_fraction_leaf=0.0, n_estimators=200, n_jobs=1,\n",
       "            oob_score=False, random_state=None, verbose=0,\n",
       "            warm_start=False)"
      ]
     },
     "execution_count": 104,
     "metadata": {},
     "output_type": "execute_result"
    }
   ],
   "source": [
    "rf.fit(num_data.ix[:,:-2], y)"
   ]
  },
  {
   "cell_type": "code",
   "execution_count": 31,
   "metadata": {
    "collapsed": true
   },
   "outputs": [],
   "source": [
    "test_data = pd.read_csv('../bosch/test_numeric.csv', usecols = columns.index)"
   ]
  },
  {
   "cell_type": "code",
   "execution_count": 32,
   "metadata": {
    "collapsed": false
   },
   "outputs": [
    {
     "data": {
      "text/plain": [
       "(1183748, 156)"
      ]
     },
     "execution_count": 32,
     "metadata": {},
     "output_type": "execute_result"
    }
   ],
   "source": [
    "test_data.shape"
   ]
  },
  {
   "cell_type": "code",
   "execution_count": 33,
   "metadata": {
    "collapsed": false
   },
   "outputs": [
    {
     "data": {
      "text/html": [
       "<div>\n",
       "<table border=\"1\" class=\"dataframe\">\n",
       "  <thead>\n",
       "    <tr style=\"text-align: right;\">\n",
       "      <th></th>\n",
       "      <th>L0_S0_F0</th>\n",
       "      <th>L0_S0_F2</th>\n",
       "      <th>L0_S0_F4</th>\n",
       "      <th>L0_S0_F6</th>\n",
       "      <th>L0_S0_F8</th>\n",
       "      <th>L0_S0_F10</th>\n",
       "      <th>L0_S0_F12</th>\n",
       "      <th>L0_S0_F14</th>\n",
       "      <th>L0_S0_F16</th>\n",
       "      <th>L0_S0_F18</th>\n",
       "      <th>...</th>\n",
       "      <th>L3_S33_F3871</th>\n",
       "      <th>L3_S33_F3873</th>\n",
       "      <th>L3_S34_F3876</th>\n",
       "      <th>L3_S34_F3878</th>\n",
       "      <th>L3_S34_F3880</th>\n",
       "      <th>L3_S34_F3882</th>\n",
       "      <th>L3_S37_F3944</th>\n",
       "      <th>L3_S37_F3946</th>\n",
       "      <th>L3_S37_F3948</th>\n",
       "      <th>L3_S37_F3950</th>\n",
       "    </tr>\n",
       "  </thead>\n",
       "  <tbody>\n",
       "    <tr>\n",
       "      <th>0</th>\n",
       "      <td>NaN</td>\n",
       "      <td>NaN</td>\n",
       "      <td>NaN</td>\n",
       "      <td>NaN</td>\n",
       "      <td>NaN</td>\n",
       "      <td>NaN</td>\n",
       "      <td>NaN</td>\n",
       "      <td>NaN</td>\n",
       "      <td>NaN</td>\n",
       "      <td>NaN</td>\n",
       "      <td>...</td>\n",
       "      <td>0.0</td>\n",
       "      <td>0.0</td>\n",
       "      <td>0.0</td>\n",
       "      <td>0.0</td>\n",
       "      <td>0.0</td>\n",
       "      <td>0.0</td>\n",
       "      <td>0.0</td>\n",
       "      <td>0.0</td>\n",
       "      <td>0.0</td>\n",
       "      <td>0.0</td>\n",
       "    </tr>\n",
       "    <tr>\n",
       "      <th>1</th>\n",
       "      <td>NaN</td>\n",
       "      <td>NaN</td>\n",
       "      <td>NaN</td>\n",
       "      <td>NaN</td>\n",
       "      <td>NaN</td>\n",
       "      <td>NaN</td>\n",
       "      <td>NaN</td>\n",
       "      <td>NaN</td>\n",
       "      <td>NaN</td>\n",
       "      <td>NaN</td>\n",
       "      <td>...</td>\n",
       "      <td>0.0</td>\n",
       "      <td>0.0</td>\n",
       "      <td>0.0</td>\n",
       "      <td>0.0</td>\n",
       "      <td>0.0</td>\n",
       "      <td>0.0</td>\n",
       "      <td>0.0</td>\n",
       "      <td>0.0</td>\n",
       "      <td>0.0</td>\n",
       "      <td>0.0</td>\n",
       "    </tr>\n",
       "    <tr>\n",
       "      <th>2</th>\n",
       "      <td>NaN</td>\n",
       "      <td>NaN</td>\n",
       "      <td>NaN</td>\n",
       "      <td>NaN</td>\n",
       "      <td>NaN</td>\n",
       "      <td>NaN</td>\n",
       "      <td>NaN</td>\n",
       "      <td>NaN</td>\n",
       "      <td>NaN</td>\n",
       "      <td>NaN</td>\n",
       "      <td>...</td>\n",
       "      <td>0.0</td>\n",
       "      <td>0.0</td>\n",
       "      <td>0.0</td>\n",
       "      <td>0.0</td>\n",
       "      <td>0.0</td>\n",
       "      <td>0.0</td>\n",
       "      <td>0.0</td>\n",
       "      <td>0.0</td>\n",
       "      <td>0.0</td>\n",
       "      <td>0.0</td>\n",
       "    </tr>\n",
       "    <tr>\n",
       "      <th>3</th>\n",
       "      <td>-0.016</td>\n",
       "      <td>-0.026</td>\n",
       "      <td>-0.033</td>\n",
       "      <td>-0.016</td>\n",
       "      <td>0.205</td>\n",
       "      <td>-0.157</td>\n",
       "      <td>0.0</td>\n",
       "      <td>0.008</td>\n",
       "      <td>0.087</td>\n",
       "      <td>0.077</td>\n",
       "      <td>...</td>\n",
       "      <td>0.0</td>\n",
       "      <td>0.0</td>\n",
       "      <td>0.0</td>\n",
       "      <td>0.0</td>\n",
       "      <td>0.0</td>\n",
       "      <td>0.0</td>\n",
       "      <td>0.0</td>\n",
       "      <td>0.0</td>\n",
       "      <td>0.0</td>\n",
       "      <td>0.0</td>\n",
       "    </tr>\n",
       "    <tr>\n",
       "      <th>4</th>\n",
       "      <td>NaN</td>\n",
       "      <td>NaN</td>\n",
       "      <td>NaN</td>\n",
       "      <td>NaN</td>\n",
       "      <td>NaN</td>\n",
       "      <td>NaN</td>\n",
       "      <td>NaN</td>\n",
       "      <td>NaN</td>\n",
       "      <td>NaN</td>\n",
       "      <td>NaN</td>\n",
       "      <td>...</td>\n",
       "      <td>0.0</td>\n",
       "      <td>0.0</td>\n",
       "      <td>0.0</td>\n",
       "      <td>0.0</td>\n",
       "      <td>0.0</td>\n",
       "      <td>0.0</td>\n",
       "      <td>0.0</td>\n",
       "      <td>0.0</td>\n",
       "      <td>0.0</td>\n",
       "      <td>0.0</td>\n",
       "    </tr>\n",
       "  </tbody>\n",
       "</table>\n",
       "<p>5 rows × 156 columns</p>\n",
       "</div>"
      ],
      "text/plain": [
       "   L0_S0_F0  L0_S0_F2  L0_S0_F4  L0_S0_F6  L0_S0_F8  L0_S0_F10  L0_S0_F12  \\\n",
       "0       NaN       NaN       NaN       NaN       NaN        NaN        NaN   \n",
       "1       NaN       NaN       NaN       NaN       NaN        NaN        NaN   \n",
       "2       NaN       NaN       NaN       NaN       NaN        NaN        NaN   \n",
       "3    -0.016    -0.026    -0.033    -0.016     0.205     -0.157        0.0   \n",
       "4       NaN       NaN       NaN       NaN       NaN        NaN        NaN   \n",
       "\n",
       "   L0_S0_F14  L0_S0_F16  L0_S0_F18      ...       L3_S33_F3871  L3_S33_F3873  \\\n",
       "0        NaN        NaN        NaN      ...                0.0           0.0   \n",
       "1        NaN        NaN        NaN      ...                0.0           0.0   \n",
       "2        NaN        NaN        NaN      ...                0.0           0.0   \n",
       "3      0.008      0.087      0.077      ...                0.0           0.0   \n",
       "4        NaN        NaN        NaN      ...                0.0           0.0   \n",
       "\n",
       "   L3_S34_F3876  L3_S34_F3878  L3_S34_F3880  L3_S34_F3882  L3_S37_F3944  \\\n",
       "0           0.0           0.0           0.0           0.0           0.0   \n",
       "1           0.0           0.0           0.0           0.0           0.0   \n",
       "2           0.0           0.0           0.0           0.0           0.0   \n",
       "3           0.0           0.0           0.0           0.0           0.0   \n",
       "4           0.0           0.0           0.0           0.0           0.0   \n",
       "\n",
       "   L3_S37_F3946  L3_S37_F3948  L3_S37_F3950  \n",
       "0           0.0           0.0           0.0  \n",
       "1           0.0           0.0           0.0  \n",
       "2           0.0           0.0           0.0  \n",
       "3           0.0           0.0           0.0  \n",
       "4           0.0           0.0           0.0  \n",
       "\n",
       "[5 rows x 156 columns]"
      ]
     },
     "execution_count": 33,
     "metadata": {},
     "output_type": "execute_result"
    }
   ],
   "source": [
    "test_data.head()"
   ]
  },
  {
   "cell_type": "code",
   "execution_count": 105,
   "metadata": {
    "collapsed": false
   },
   "outputs": [],
   "source": [
    "test_data = test_data.fillna(test_data.mean())"
   ]
  },
  {
   "cell_type": "code",
   "execution_count": 106,
   "metadata": {
    "collapsed": true
   },
   "outputs": [],
   "source": [
    "results = rf.predict(test_data)"
   ]
  },
  {
   "cell_type": "code",
   "execution_count": 108,
   "metadata": {
    "collapsed": false
   },
   "outputs": [
    {
     "data": {
      "text/plain": [
       "0.0"
      ]
     },
     "execution_count": 108,
     "metadata": {},
     "output_type": "execute_result"
    }
   ],
   "source": [
    "results.mean()"
   ]
  },
  {
   "cell_type": "code",
   "execution_count": 92,
   "metadata": {
    "collapsed": false
   },
   "outputs": [],
   "source": [
    "test_id = pd.read_csv('../bosch/test_numeric.csv', usecols = ['Id'])"
   ]
  },
  {
   "cell_type": "code",
   "execution_count": 19,
   "metadata": {
    "collapsed": false
   },
   "outputs": [],
   "source": [
    "submission = pd.DataFrame()"
   ]
  },
  {
   "cell_type": "code",
   "execution_count": 20,
   "metadata": {
    "collapsed": true
   },
   "outputs": [],
   "source": [
    "submission['Id'] = test_id['Id']\n",
    "submission['Response'] = results"
   ]
  },
  {
   "cell_type": "code",
   "execution_count": 21,
   "metadata": {
    "collapsed": false
   },
   "outputs": [
    {
     "data": {
      "text/plain": [
       "(1183748, 2)"
      ]
     },
     "execution_count": 21,
     "metadata": {},
     "output_type": "execute_result"
    }
   ],
   "source": [
    "submission.shape"
   ]
  },
  {
   "cell_type": "code",
   "execution_count": 29,
   "metadata": {
    "collapsed": true
   },
   "outputs": [],
   "source": [
    "submission.to_csv('rf_numerical.csv', index = False)"
   ]
  },
  {
   "cell_type": "markdown",
   "metadata": {
    "collapsed": true
   },
   "source": [
    "Training on Entire set with selected columns from the sample training data"
   ]
  },
  {
   "cell_type": "code",
   "execution_count": 6,
   "metadata": {
    "collapsed": true
   },
   "outputs": [],
   "source": [
    "num_data_full = pd.read_csv('../bosch/train_numeric.csv', usecols = columns.index)"
   ]
  },
  {
   "cell_type": "code",
   "execution_count": 7,
   "metadata": {
    "collapsed": false
   },
   "outputs": [
    {
     "data": {
      "text/plain": [
       "(1183747, 156)"
      ]
     },
     "execution_count": 7,
     "metadata": {},
     "output_type": "execute_result"
    }
   ],
   "source": [
    "num_data_full.shape"
   ]
  },
  {
   "cell_type": "markdown",
   "metadata": {},
   "source": [
    "Let us use weighing method to solve the imbalanced data. Since the ration is 0.994:0.006 try the weights 1:50 and 1:100 and 1:150"
   ]
  },
  {
   "cell_type": "code",
   "execution_count": 8,
   "metadata": {
    "collapsed": true
   },
   "outputs": [],
   "source": [
    "ynum_data_full = pd.read_csv('../bosch/train_numeric.csv', usecols = ['Response'])"
   ]
  },
  {
   "cell_type": "code",
   "execution_count": 29,
   "metadata": {
    "collapsed": false
   },
   "outputs": [],
   "source": [
    "rff = RandomForestClassifier(n_estimators = 200, max_depth = 20,class_weight='balanced', n_jobs=4)"
   ]
  },
  {
   "cell_type": "code",
   "execution_count": 10,
   "metadata": {
    "collapsed": true
   },
   "outputs": [],
   "source": [
    "num_data_full = num_data_full.fillna(num_data_full.mean())"
   ]
  },
  {
   "cell_type": "code",
   "execution_count": 14,
   "metadata": {
    "collapsed": false
   },
   "outputs": [],
   "source": [
    "y, xa = pd.factorize(ynum_data_full['Response'])"
   ]
  },
  {
   "cell_type": "code",
   "execution_count": 30,
   "metadata": {
    "collapsed": false
   },
   "outputs": [
    {
     "data": {
      "text/plain": [
       "RandomForestClassifier(bootstrap=True, class_weight='balanced',\n",
       "            criterion='gini', max_depth=20, max_features='auto',\n",
       "            max_leaf_nodes=None, min_samples_leaf=1, min_samples_split=2,\n",
       "            min_weight_fraction_leaf=0.0, n_estimators=200, n_jobs=4,\n",
       "            oob_score=False, random_state=None, verbose=0,\n",
       "            warm_start=False)"
      ]
     },
     "execution_count": 30,
     "metadata": {},
     "output_type": "execute_result"
    }
   ],
   "source": [
    "rff.fit(num_data_full,y)"
   ]
  },
  {
   "cell_type": "markdown",
   "metadata": {},
   "source": [
    "While fitting it is working only on one processor. RF is higly parallel. Next time chekout how to do that in parallel using python. Use n_jobs parameter in RF"
   ]
  },
  {
   "cell_type": "code",
   "execution_count": 35,
   "metadata": {
    "collapsed": true
   },
   "outputs": [],
   "source": [
    "results = rff.predict_proba(test_data)"
   ]
  },
  {
   "cell_type": "code",
   "execution_count": 37,
   "metadata": {
    "collapsed": false
   },
   "outputs": [],
   "source": [
    "res_noprob = rff.predict(test_data)"
   ]
  },
  {
   "cell_type": "code",
   "execution_count": 90,
   "metadata": {
    "collapsed": false
   },
   "outputs": [
    {
     "data": {
      "text/plain": [
       "0.0046690680786789082"
      ]
     },
     "execution_count": 90,
     "metadata": {},
     "output_type": "execute_result"
    }
   ],
   "source": [
    "t = [x[1] for x in results]\n",
    "t =np.array(t)\n",
    "t = t > 0.60\n",
    "t = t.astype(int)\n",
    "t.mean()"
   ]
  },
  {
   "cell_type": "markdown",
   "metadata": {},
   "source": [
    "Will have to calivrate the probability value depingding in the error metric. Let us first try 0.6 and 0.69"
   ]
  },
  {
   "cell_type": "code",
   "execution_count": 91,
   "metadata": {
    "collapsed": false
   },
   "outputs": [],
   "source": [
    "submission1209 = pd.DataFrame()"
   ]
  },
  {
   "cell_type": "code",
   "execution_count": 93,
   "metadata": {
    "collapsed": false
   },
   "outputs": [],
   "source": [
    "submission1209['Id'] = test_id['Id']"
   ]
  },
  {
   "cell_type": "code",
   "execution_count": 94,
   "metadata": {
    "collapsed": false
   },
   "outputs": [],
   "source": [
    "submission1209['Response'] = t"
   ]
  },
  {
   "cell_type": "code",
   "execution_count": 97,
   "metadata": {
    "collapsed": false
   },
   "outputs": [],
   "source": [
    "submission1209.to_csv('rf_fullnumdata_weighted.csv', index =False)"
   ]
  },
  {
   "cell_type": "code",
   "execution_count": 98,
   "metadata": {
    "collapsed": false
   },
   "outputs": [
    {
     "data": {
      "text/plain": [
       "0.0032481575470454859"
      ]
     },
     "execution_count": 98,
     "metadata": {},
     "output_type": "execute_result"
    }
   ],
   "source": [
    "t = [x[1] for x in results]\n",
    "t =np.array(t)\n",
    "t = t > 0.69\n",
    "t = t.astype(int)\n",
    "t.mean()"
   ]
  },
  {
   "cell_type": "code",
   "execution_count": 99,
   "metadata": {
    "collapsed": true
   },
   "outputs": [],
   "source": [
    "submission1209['Response'] = t\n",
    "submission1209.to_csv('rf_fullnumdata_weighted69.csv', index =False)"
   ]
  },
  {
   "cell_type": "code",
   "execution_count": 100,
   "metadata": {
    "collapsed": false
   },
   "outputs": [
    {
     "data": {
      "text/plain": [
       "0.0060511189881630213"
      ]
     },
     "execution_count": 100,
     "metadata": {},
     "output_type": "execute_result"
    }
   ],
   "source": [
    "t = [x[1] for x in results]\n",
    "t =np.array(t)\n",
    "t = t > 0.55\n",
    "t = t.astype(int)\n",
    "t.mean()"
   ]
  },
  {
   "cell_type": "code",
   "execution_count": 101,
   "metadata": {
    "collapsed": true
   },
   "outputs": [],
   "source": [
    "submission1209['Response'] = t\n",
    "submission1209.to_csv('rf_fullnumdata_weighted55.csv', index =False)"
   ]
  },
  {
   "cell_type": "code",
   "execution_count": 102,
   "metadata": {
    "collapsed": false
   },
   "outputs": [
    {
     "data": {
      "text/plain": [
       "0.0076773096976721399"
      ]
     },
     "execution_count": 102,
     "metadata": {},
     "output_type": "execute_result"
    }
   ],
   "source": [
    "t = [x[1] for x in results]\n",
    "t =np.array(t)\n",
    "t = t > 0.50\n",
    "t = t.astype(int)\n",
    "t.mean()"
   ]
  },
  {
   "cell_type": "code",
   "execution_count": 103,
   "metadata": {
    "collapsed": true
   },
   "outputs": [],
   "source": [
    "submission1209['Response'] = t\n",
    "submission1209.to_csv('rf_fullnumdata_weighted50.csv', index =False)"
   ]
  },
  {
   "cell_type": "markdown",
   "metadata": {
    "collapsed": true
   },
   "source": [
    "Will try svm classification now. Let us use rdf kernel.\n",
    "First using sample data of 10000 points"
   ]
  },
  {
   "cell_type": "code",
   "execution_count": 51,
   "metadata": {
    "collapsed": false
   },
   "outputs": [],
   "source": [
    "X_train_svm = num_data.ix[:,:-2]"
   ]
  },
  {
   "cell_type": "code",
   "execution_count": 52,
   "metadata": {
    "collapsed": false
   },
   "outputs": [],
   "source": [
    "Y_train_svm = y"
   ]
  },
  {
   "cell_type": "markdown",
   "metadata": {},
   "source": [
    "Will have to normalize the data first to use it for SVM."
   ]
  },
  {
   "cell_type": "code",
   "execution_count": 53,
   "metadata": {
    "collapsed": false
   },
   "outputs": [],
   "source": [
    "from sklearn import preprocessing"
   ]
  },
  {
   "cell_type": "code",
   "execution_count": 54,
   "metadata": {
    "collapsed": true
   },
   "outputs": [],
   "source": [
    "scaler = preprocessing.StandardScaler()"
   ]
  },
  {
   "cell_type": "code",
   "execution_count": 55,
   "metadata": {
    "collapsed": true
   },
   "outputs": [],
   "source": [
    "X_train_norm = scaler.fit_transform(X_train_svm)"
   ]
  },
  {
   "cell_type": "code",
   "execution_count": 58,
   "metadata": {
    "collapsed": false
   },
   "outputs": [],
   "source": [
    "X_train = pd.DataFrame(X_train_norm)"
   ]
  },
  {
   "cell_type": "code",
   "execution_count": 59,
   "metadata": {
    "collapsed": false
   },
   "outputs": [
    {
     "data": {
      "text/html": [
       "<div>\n",
       "<table border=\"1\" class=\"dataframe\">\n",
       "  <thead>\n",
       "    <tr style=\"text-align: right;\">\n",
       "      <th></th>\n",
       "      <th>0</th>\n",
       "      <th>1</th>\n",
       "      <th>2</th>\n",
       "      <th>3</th>\n",
       "      <th>4</th>\n",
       "      <th>5</th>\n",
       "      <th>6</th>\n",
       "      <th>7</th>\n",
       "      <th>8</th>\n",
       "      <th>9</th>\n",
       "      <th>...</th>\n",
       "      <th>146</th>\n",
       "      <th>147</th>\n",
       "      <th>148</th>\n",
       "      <th>149</th>\n",
       "      <th>150</th>\n",
       "      <th>151</th>\n",
       "      <th>152</th>\n",
       "      <th>153</th>\n",
       "      <th>154</th>\n",
       "      <th>155</th>\n",
       "    </tr>\n",
       "  </thead>\n",
       "  <tbody>\n",
       "    <tr>\n",
       "      <th>0</th>\n",
       "      <td>-2.208405e+00</td>\n",
       "      <td>-2.505727e+00</td>\n",
       "      <td>-9.627066e-02</td>\n",
       "      <td>-1.026461e-01</td>\n",
       "      <td>1.046151e+00</td>\n",
       "      <td>9.342563e-01</td>\n",
       "      <td>1.494089e+00</td>\n",
       "      <td>2.127958e+00</td>\n",
       "      <td>4.523571e-01</td>\n",
       "      <td>-6.154884e-01</td>\n",
       "      <td>...</td>\n",
       "      <td>-0.021536</td>\n",
       "      <td>-0.028391</td>\n",
       "      <td>-0.017391</td>\n",
       "      <td>-0.017865</td>\n",
       "      <td>-0.018669</td>\n",
       "      <td>-0.030961</td>\n",
       "      <td>-0.011334</td>\n",
       "      <td>-0.022387</td>\n",
       "      <td>-0.024129</td>\n",
       "      <td>-0.040222</td>\n",
       "    </tr>\n",
       "    <tr>\n",
       "      <th>1</th>\n",
       "      <td>-1.876263e+00</td>\n",
       "      <td>-1.438805e+00</td>\n",
       "      <td>-1.007620e+00</td>\n",
       "      <td>-1.348325e+00</td>\n",
       "      <td>-7.801660e-01</td>\n",
       "      <td>-5.182451e-01</td>\n",
       "      <td>1.014453e+00</td>\n",
       "      <td>5.995934e-01</td>\n",
       "      <td>-2.504624e+00</td>\n",
       "      <td>-2.822617e+00</td>\n",
       "      <td>...</td>\n",
       "      <td>-0.021536</td>\n",
       "      <td>-0.028391</td>\n",
       "      <td>-0.017391</td>\n",
       "      <td>-0.017865</td>\n",
       "      <td>-0.018669</td>\n",
       "      <td>-0.030961</td>\n",
       "      <td>-0.011334</td>\n",
       "      <td>-0.022387</td>\n",
       "      <td>-0.024129</td>\n",
       "      <td>-0.040222</td>\n",
       "    </tr>\n",
       "    <tr>\n",
       "      <th>2</th>\n",
       "      <td>1.830192e-01</td>\n",
       "      <td>8.248010e-01</td>\n",
       "      <td>-1.232336e+00</td>\n",
       "      <td>-1.117874e+00</td>\n",
       "      <td>-1.398304e+00</td>\n",
       "      <td>-1.970746e+00</td>\n",
       "      <td>-1.041131e+00</td>\n",
       "      <td>-9.287715e-01</td>\n",
       "      <td>1.508610e-01</td>\n",
       "      <td>-8.043337e-01</td>\n",
       "      <td>...</td>\n",
       "      <td>-0.021536</td>\n",
       "      <td>-0.028391</td>\n",
       "      <td>-0.017391</td>\n",
       "      <td>-0.017865</td>\n",
       "      <td>-0.018669</td>\n",
       "      <td>-0.030961</td>\n",
       "      <td>-0.011334</td>\n",
       "      <td>-0.022387</td>\n",
       "      <td>-0.024129</td>\n",
       "      <td>-0.040222</td>\n",
       "    </tr>\n",
       "    <tr>\n",
       "      <th>3</th>\n",
       "      <td>7.310540e-01</td>\n",
       "      <td>4.931900e-01</td>\n",
       "      <td>1.944902e+00</td>\n",
       "      <td>2.052378e+00</td>\n",
       "      <td>4.420613e-01</td>\n",
       "      <td>1.293391e+00</td>\n",
       "      <td>1.014453e+00</td>\n",
       "      <td>1.109048e+00</td>\n",
       "      <td>2.458466e+00</td>\n",
       "      <td>1.025105e+00</td>\n",
       "      <td>...</td>\n",
       "      <td>-0.021536</td>\n",
       "      <td>-0.028391</td>\n",
       "      <td>-0.017391</td>\n",
       "      <td>-0.017865</td>\n",
       "      <td>-0.018669</td>\n",
       "      <td>-0.030961</td>\n",
       "      <td>-0.011334</td>\n",
       "      <td>-0.022387</td>\n",
       "      <td>-0.024129</td>\n",
       "      <td>-0.040222</td>\n",
       "    </tr>\n",
       "    <tr>\n",
       "      <th>4</th>\n",
       "      <td>2.016613e-16</td>\n",
       "      <td>9.379132e-18</td>\n",
       "      <td>1.894961e-17</td>\n",
       "      <td>-3.376419e-18</td>\n",
       "      <td>-1.629772e-16</td>\n",
       "      <td>-3.132305e-16</td>\n",
       "      <td>7.614618e-17</td>\n",
       "      <td>-5.523522e-18</td>\n",
       "      <td>1.005793e-17</td>\n",
       "      <td>-3.327130e-17</td>\n",
       "      <td>...</td>\n",
       "      <td>-0.021536</td>\n",
       "      <td>-0.028391</td>\n",
       "      <td>-0.017391</td>\n",
       "      <td>-0.017865</td>\n",
       "      <td>-0.018669</td>\n",
       "      <td>-0.030961</td>\n",
       "      <td>-0.011334</td>\n",
       "      <td>-0.022387</td>\n",
       "      <td>-0.024129</td>\n",
       "      <td>-0.040222</td>\n",
       "    </tr>\n",
       "  </tbody>\n",
       "</table>\n",
       "<p>5 rows × 156 columns</p>\n",
       "</div>"
      ],
      "text/plain": [
       "            0             1             2             3             4    \\\n",
       "0 -2.208405e+00 -2.505727e+00 -9.627066e-02 -1.026461e-01  1.046151e+00   \n",
       "1 -1.876263e+00 -1.438805e+00 -1.007620e+00 -1.348325e+00 -7.801660e-01   \n",
       "2  1.830192e-01  8.248010e-01 -1.232336e+00 -1.117874e+00 -1.398304e+00   \n",
       "3  7.310540e-01  4.931900e-01  1.944902e+00  2.052378e+00  4.420613e-01   \n",
       "4  2.016613e-16  9.379132e-18  1.894961e-17 -3.376419e-18 -1.629772e-16   \n",
       "\n",
       "            5             6             7             8             9    \\\n",
       "0  9.342563e-01  1.494089e+00  2.127958e+00  4.523571e-01 -6.154884e-01   \n",
       "1 -5.182451e-01  1.014453e+00  5.995934e-01 -2.504624e+00 -2.822617e+00   \n",
       "2 -1.970746e+00 -1.041131e+00 -9.287715e-01  1.508610e-01 -8.043337e-01   \n",
       "3  1.293391e+00  1.014453e+00  1.109048e+00  2.458466e+00  1.025105e+00   \n",
       "4 -3.132305e-16  7.614618e-17 -5.523522e-18  1.005793e-17 -3.327130e-17   \n",
       "\n",
       "     ...          146       147       148       149       150       151  \\\n",
       "0    ...    -0.021536 -0.028391 -0.017391 -0.017865 -0.018669 -0.030961   \n",
       "1    ...    -0.021536 -0.028391 -0.017391 -0.017865 -0.018669 -0.030961   \n",
       "2    ...    -0.021536 -0.028391 -0.017391 -0.017865 -0.018669 -0.030961   \n",
       "3    ...    -0.021536 -0.028391 -0.017391 -0.017865 -0.018669 -0.030961   \n",
       "4    ...    -0.021536 -0.028391 -0.017391 -0.017865 -0.018669 -0.030961   \n",
       "\n",
       "        152       153       154       155  \n",
       "0 -0.011334 -0.022387 -0.024129 -0.040222  \n",
       "1 -0.011334 -0.022387 -0.024129 -0.040222  \n",
       "2 -0.011334 -0.022387 -0.024129 -0.040222  \n",
       "3 -0.011334 -0.022387 -0.024129 -0.040222  \n",
       "4 -0.011334 -0.022387 -0.024129 -0.040222  \n",
       "\n",
       "[5 rows x 156 columns]"
      ]
     },
     "execution_count": 59,
     "metadata": {},
     "output_type": "execute_result"
    }
   ],
   "source": [
    "X_train.head()"
   ]
  },
  {
   "cell_type": "code",
   "execution_count": 71,
   "metadata": {
    "collapsed": false
   },
   "outputs": [],
   "source": [
    "clf = svm.SVC(C=1.0, probability=True, class_weight='auto')"
   ]
  },
  {
   "cell_type": "code",
   "execution_count": 61,
   "metadata": {
    "collapsed": true
   },
   "outputs": [],
   "source": [
    "test_data = pd.read_csv('../bosch/test_numeric_sample.csv', usecols = columns.index)"
   ]
  },
  {
   "cell_type": "code",
   "execution_count": 62,
   "metadata": {
    "collapsed": false
   },
   "outputs": [
    {
     "data": {
      "text/html": [
       "<div>\n",
       "<table border=\"1\" class=\"dataframe\">\n",
       "  <thead>\n",
       "    <tr style=\"text-align: right;\">\n",
       "      <th></th>\n",
       "      <th>L0_S0_F0</th>\n",
       "      <th>L0_S0_F2</th>\n",
       "      <th>L0_S0_F4</th>\n",
       "      <th>L0_S0_F6</th>\n",
       "      <th>L0_S0_F8</th>\n",
       "      <th>L0_S0_F10</th>\n",
       "      <th>L0_S0_F12</th>\n",
       "      <th>L0_S0_F14</th>\n",
       "      <th>L0_S0_F16</th>\n",
       "      <th>L0_S0_F18</th>\n",
       "      <th>...</th>\n",
       "      <th>L3_S33_F3871</th>\n",
       "      <th>L3_S33_F3873</th>\n",
       "      <th>L3_S34_F3876</th>\n",
       "      <th>L3_S34_F3878</th>\n",
       "      <th>L3_S34_F3880</th>\n",
       "      <th>L3_S34_F3882</th>\n",
       "      <th>L3_S37_F3944</th>\n",
       "      <th>L3_S37_F3946</th>\n",
       "      <th>L3_S37_F3948</th>\n",
       "      <th>L3_S37_F3950</th>\n",
       "    </tr>\n",
       "  </thead>\n",
       "  <tbody>\n",
       "    <tr>\n",
       "      <th>0</th>\n",
       "      <td>-0.023</td>\n",
       "      <td>-0.064</td>\n",
       "      <td>-0.197</td>\n",
       "      <td>-0.161</td>\n",
       "      <td>-0.056</td>\n",
       "      <td>0.070</td>\n",
       "      <td>-0.007</td>\n",
       "      <td>0.008</td>\n",
       "      <td>-0.327</td>\n",
       "      <td>-0.201</td>\n",
       "      <td>...</td>\n",
       "      <td>0.0</td>\n",
       "      <td>0.0</td>\n",
       "      <td>0.0</td>\n",
       "      <td>0.0</td>\n",
       "      <td>0.0</td>\n",
       "      <td>0.0</td>\n",
       "      <td>0.0</td>\n",
       "      <td>0.0</td>\n",
       "      <td>0.0</td>\n",
       "      <td>0.0</td>\n",
       "    </tr>\n",
       "    <tr>\n",
       "      <th>1</th>\n",
       "      <td>NaN</td>\n",
       "      <td>NaN</td>\n",
       "      <td>NaN</td>\n",
       "      <td>NaN</td>\n",
       "      <td>NaN</td>\n",
       "      <td>NaN</td>\n",
       "      <td>NaN</td>\n",
       "      <td>NaN</td>\n",
       "      <td>NaN</td>\n",
       "      <td>NaN</td>\n",
       "      <td>...</td>\n",
       "      <td>0.0</td>\n",
       "      <td>0.0</td>\n",
       "      <td>0.0</td>\n",
       "      <td>0.0</td>\n",
       "      <td>0.0</td>\n",
       "      <td>0.0</td>\n",
       "      <td>0.0</td>\n",
       "      <td>0.0</td>\n",
       "      <td>0.0</td>\n",
       "      <td>0.0</td>\n",
       "    </tr>\n",
       "    <tr>\n",
       "      <th>2</th>\n",
       "      <td>-0.042</td>\n",
       "      <td>-0.049</td>\n",
       "      <td>-0.015</td>\n",
       "      <td>-0.016</td>\n",
       "      <td>-0.013</td>\n",
       "      <td>0.161</td>\n",
       "      <td>0.008</td>\n",
       "      <td>0.048</td>\n",
       "      <td>-0.092</td>\n",
       "      <td>0.067</td>\n",
       "      <td>...</td>\n",
       "      <td>0.0</td>\n",
       "      <td>0.0</td>\n",
       "      <td>0.0</td>\n",
       "      <td>0.0</td>\n",
       "      <td>0.0</td>\n",
       "      <td>0.0</td>\n",
       "      <td>0.0</td>\n",
       "      <td>0.0</td>\n",
       "      <td>0.0</td>\n",
       "      <td>0.0</td>\n",
       "    </tr>\n",
       "    <tr>\n",
       "      <th>3</th>\n",
       "      <td>NaN</td>\n",
       "      <td>NaN</td>\n",
       "      <td>NaN</td>\n",
       "      <td>NaN</td>\n",
       "      <td>NaN</td>\n",
       "      <td>NaN</td>\n",
       "      <td>NaN</td>\n",
       "      <td>NaN</td>\n",
       "      <td>NaN</td>\n",
       "      <td>NaN</td>\n",
       "      <td>...</td>\n",
       "      <td>0.0</td>\n",
       "      <td>0.0</td>\n",
       "      <td>0.0</td>\n",
       "      <td>0.0</td>\n",
       "      <td>0.0</td>\n",
       "      <td>0.0</td>\n",
       "      <td>0.0</td>\n",
       "      <td>0.0</td>\n",
       "      <td>0.0</td>\n",
       "      <td>0.0</td>\n",
       "    </tr>\n",
       "    <tr>\n",
       "      <th>4</th>\n",
       "      <td>NaN</td>\n",
       "      <td>NaN</td>\n",
       "      <td>NaN</td>\n",
       "      <td>NaN</td>\n",
       "      <td>NaN</td>\n",
       "      <td>NaN</td>\n",
       "      <td>NaN</td>\n",
       "      <td>NaN</td>\n",
       "      <td>NaN</td>\n",
       "      <td>NaN</td>\n",
       "      <td>...</td>\n",
       "      <td>0.0</td>\n",
       "      <td>0.0</td>\n",
       "      <td>0.0</td>\n",
       "      <td>0.0</td>\n",
       "      <td>0.0</td>\n",
       "      <td>0.0</td>\n",
       "      <td>0.0</td>\n",
       "      <td>0.0</td>\n",
       "      <td>0.0</td>\n",
       "      <td>0.0</td>\n",
       "    </tr>\n",
       "  </tbody>\n",
       "</table>\n",
       "<p>5 rows × 156 columns</p>\n",
       "</div>"
      ],
      "text/plain": [
       "   L0_S0_F0  L0_S0_F2  L0_S0_F4  L0_S0_F6  L0_S0_F8  L0_S0_F10  L0_S0_F12  \\\n",
       "0    -0.023    -0.064    -0.197    -0.161    -0.056      0.070     -0.007   \n",
       "1       NaN       NaN       NaN       NaN       NaN        NaN        NaN   \n",
       "2    -0.042    -0.049    -0.015    -0.016    -0.013      0.161      0.008   \n",
       "3       NaN       NaN       NaN       NaN       NaN        NaN        NaN   \n",
       "4       NaN       NaN       NaN       NaN       NaN        NaN        NaN   \n",
       "\n",
       "   L0_S0_F14  L0_S0_F16  L0_S0_F18      ...       L3_S33_F3871  L3_S33_F3873  \\\n",
       "0      0.008     -0.327     -0.201      ...                0.0           0.0   \n",
       "1        NaN        NaN        NaN      ...                0.0           0.0   \n",
       "2      0.048     -0.092      0.067      ...                0.0           0.0   \n",
       "3        NaN        NaN        NaN      ...                0.0           0.0   \n",
       "4        NaN        NaN        NaN      ...                0.0           0.0   \n",
       "\n",
       "   L3_S34_F3876  L3_S34_F3878  L3_S34_F3880  L3_S34_F3882  L3_S37_F3944  \\\n",
       "0           0.0           0.0           0.0           0.0           0.0   \n",
       "1           0.0           0.0           0.0           0.0           0.0   \n",
       "2           0.0           0.0           0.0           0.0           0.0   \n",
       "3           0.0           0.0           0.0           0.0           0.0   \n",
       "4           0.0           0.0           0.0           0.0           0.0   \n",
       "\n",
       "   L3_S37_F3946  L3_S37_F3948  L3_S37_F3950  \n",
       "0           0.0           0.0           0.0  \n",
       "1           0.0           0.0           0.0  \n",
       "2           0.0           0.0           0.0  \n",
       "3           0.0           0.0           0.0  \n",
       "4           0.0           0.0           0.0  \n",
       "\n",
       "[5 rows x 156 columns]"
      ]
     },
     "execution_count": 62,
     "metadata": {},
     "output_type": "execute_result"
    }
   ],
   "source": [
    "test_data.head()"
   ]
  },
  {
   "cell_type": "code",
   "execution_count": 63,
   "metadata": {
    "collapsed": true
   },
   "outputs": [],
   "source": [
    "test_data = test_data.fillna(test_data.mean())"
   ]
  },
  {
   "cell_type": "code",
   "execution_count": 64,
   "metadata": {
    "collapsed": false
   },
   "outputs": [
    {
     "data": {
      "text/html": [
       "<div>\n",
       "<table border=\"1\" class=\"dataframe\">\n",
       "  <thead>\n",
       "    <tr style=\"text-align: right;\">\n",
       "      <th></th>\n",
       "      <th>0</th>\n",
       "      <th>1</th>\n",
       "      <th>2</th>\n",
       "      <th>3</th>\n",
       "      <th>4</th>\n",
       "      <th>5</th>\n",
       "      <th>6</th>\n",
       "      <th>7</th>\n",
       "      <th>8</th>\n",
       "      <th>9</th>\n",
       "      <th>...</th>\n",
       "      <th>146</th>\n",
       "      <th>147</th>\n",
       "      <th>148</th>\n",
       "      <th>149</th>\n",
       "      <th>150</th>\n",
       "      <th>151</th>\n",
       "      <th>152</th>\n",
       "      <th>153</th>\n",
       "      <th>154</th>\n",
       "      <th>155</th>\n",
       "    </tr>\n",
       "  </thead>\n",
       "  <tbody>\n",
       "    <tr>\n",
       "      <th>0</th>\n",
       "      <td>-3.515559e-01</td>\n",
       "      <td>-8.802541e-01</td>\n",
       "      <td>-1.227732e+00</td>\n",
       "      <td>-1.002049e+00</td>\n",
       "      <td>-7.856648e-01</td>\n",
       "      <td>5.719923e-01</td>\n",
       "      <td>-4.889354e-01</td>\n",
       "      <td>8.366742e-02</td>\n",
       "      <td>-3.702608e+00</td>\n",
       "      <td>-2.332534e+00</td>\n",
       "      <td>...</td>\n",
       "      <td>-0.032635</td>\n",
       "      <td>-0.034178</td>\n",
       "      <td>-0.011185</td>\n",
       "      <td>0.0</td>\n",
       "      <td>-0.015986</td>\n",
       "      <td>-0.03964</td>\n",
       "      <td>-0.010867</td>\n",
       "      <td>-0.019917</td>\n",
       "      <td>-0.025631</td>\n",
       "      <td>-0.034812</td>\n",
       "    </tr>\n",
       "    <tr>\n",
       "      <th>1</th>\n",
       "      <td>2.224704e-16</td>\n",
       "      <td>-6.416259e-17</td>\n",
       "      <td>2.505532e-16</td>\n",
       "      <td>9.836902e-16</td>\n",
       "      <td>4.311963e-17</td>\n",
       "      <td>-9.094438e-17</td>\n",
       "      <td>1.051293e-16</td>\n",
       "      <td>1.350775e-17</td>\n",
       "      <td>-1.235645e-16</td>\n",
       "      <td>9.191720e-17</td>\n",
       "      <td>...</td>\n",
       "      <td>-0.032635</td>\n",
       "      <td>-0.034178</td>\n",
       "      <td>-0.011185</td>\n",
       "      <td>0.0</td>\n",
       "      <td>-0.015986</td>\n",
       "      <td>-0.03964</td>\n",
       "      <td>-0.010867</td>\n",
       "      <td>-0.019917</td>\n",
       "      <td>-0.025631</td>\n",
       "      <td>-0.034812</td>\n",
       "    </tr>\n",
       "    <tr>\n",
       "      <th>2</th>\n",
       "      <td>-6.609736e-01</td>\n",
       "      <td>-6.688986e-01</td>\n",
       "      <td>-8.481823e-02</td>\n",
       "      <td>-9.350162e-02</td>\n",
       "      <td>-1.803034e-01</td>\n",
       "      <td>1.305954e+00</td>\n",
       "      <td>5.141468e-01</td>\n",
       "      <td>5.820153e-01</td>\n",
       "      <td>-1.024357e+00</td>\n",
       "      <td>8.231158e-01</td>\n",
       "      <td>...</td>\n",
       "      <td>-0.032635</td>\n",
       "      <td>-0.034178</td>\n",
       "      <td>-0.011185</td>\n",
       "      <td>0.0</td>\n",
       "      <td>-0.015986</td>\n",
       "      <td>-0.03964</td>\n",
       "      <td>-0.010867</td>\n",
       "      <td>-0.019917</td>\n",
       "      <td>-0.025631</td>\n",
       "      <td>-0.034812</td>\n",
       "    </tr>\n",
       "    <tr>\n",
       "      <th>3</th>\n",
       "      <td>2.224704e-16</td>\n",
       "      <td>-6.416259e-17</td>\n",
       "      <td>2.505532e-16</td>\n",
       "      <td>9.836902e-16</td>\n",
       "      <td>4.311963e-17</td>\n",
       "      <td>-9.094438e-17</td>\n",
       "      <td>1.051293e-16</td>\n",
       "      <td>1.350775e-17</td>\n",
       "      <td>-1.235645e-16</td>\n",
       "      <td>9.191720e-17</td>\n",
       "      <td>...</td>\n",
       "      <td>-0.032635</td>\n",
       "      <td>-0.034178</td>\n",
       "      <td>-0.011185</td>\n",
       "      <td>0.0</td>\n",
       "      <td>-0.015986</td>\n",
       "      <td>-0.03964</td>\n",
       "      <td>-0.010867</td>\n",
       "      <td>-0.019917</td>\n",
       "      <td>-0.025631</td>\n",
       "      <td>-0.034812</td>\n",
       "    </tr>\n",
       "    <tr>\n",
       "      <th>4</th>\n",
       "      <td>2.224704e-16</td>\n",
       "      <td>-6.416259e-17</td>\n",
       "      <td>2.505532e-16</td>\n",
       "      <td>9.836902e-16</td>\n",
       "      <td>4.311963e-17</td>\n",
       "      <td>-9.094438e-17</td>\n",
       "      <td>1.051293e-16</td>\n",
       "      <td>1.350775e-17</td>\n",
       "      <td>-1.235645e-16</td>\n",
       "      <td>9.191720e-17</td>\n",
       "      <td>...</td>\n",
       "      <td>-0.032635</td>\n",
       "      <td>-0.034178</td>\n",
       "      <td>-0.011185</td>\n",
       "      <td>0.0</td>\n",
       "      <td>-0.015986</td>\n",
       "      <td>-0.03964</td>\n",
       "      <td>-0.010867</td>\n",
       "      <td>-0.019917</td>\n",
       "      <td>-0.025631</td>\n",
       "      <td>-0.034812</td>\n",
       "    </tr>\n",
       "  </tbody>\n",
       "</table>\n",
       "<p>5 rows × 156 columns</p>\n",
       "</div>"
      ],
      "text/plain": [
       "            0             1             2             3             4    \\\n",
       "0 -3.515559e-01 -8.802541e-01 -1.227732e+00 -1.002049e+00 -7.856648e-01   \n",
       "1  2.224704e-16 -6.416259e-17  2.505532e-16  9.836902e-16  4.311963e-17   \n",
       "2 -6.609736e-01 -6.688986e-01 -8.481823e-02 -9.350162e-02 -1.803034e-01   \n",
       "3  2.224704e-16 -6.416259e-17  2.505532e-16  9.836902e-16  4.311963e-17   \n",
       "4  2.224704e-16 -6.416259e-17  2.505532e-16  9.836902e-16  4.311963e-17   \n",
       "\n",
       "            5             6             7             8             9    \\\n",
       "0  5.719923e-01 -4.889354e-01  8.366742e-02 -3.702608e+00 -2.332534e+00   \n",
       "1 -9.094438e-17  1.051293e-16  1.350775e-17 -1.235645e-16  9.191720e-17   \n",
       "2  1.305954e+00  5.141468e-01  5.820153e-01 -1.024357e+00  8.231158e-01   \n",
       "3 -9.094438e-17  1.051293e-16  1.350775e-17 -1.235645e-16  9.191720e-17   \n",
       "4 -9.094438e-17  1.051293e-16  1.350775e-17 -1.235645e-16  9.191720e-17   \n",
       "\n",
       "     ...          146       147       148  149       150      151       152  \\\n",
       "0    ...    -0.032635 -0.034178 -0.011185  0.0 -0.015986 -0.03964 -0.010867   \n",
       "1    ...    -0.032635 -0.034178 -0.011185  0.0 -0.015986 -0.03964 -0.010867   \n",
       "2    ...    -0.032635 -0.034178 -0.011185  0.0 -0.015986 -0.03964 -0.010867   \n",
       "3    ...    -0.032635 -0.034178 -0.011185  0.0 -0.015986 -0.03964 -0.010867   \n",
       "4    ...    -0.032635 -0.034178 -0.011185  0.0 -0.015986 -0.03964 -0.010867   \n",
       "\n",
       "        153       154       155  \n",
       "0 -0.019917 -0.025631 -0.034812  \n",
       "1 -0.019917 -0.025631 -0.034812  \n",
       "2 -0.019917 -0.025631 -0.034812  \n",
       "3 -0.019917 -0.025631 -0.034812  \n",
       "4 -0.019917 -0.025631 -0.034812  \n",
       "\n",
       "[5 rows x 156 columns]"
      ]
     },
     "execution_count": 64,
     "metadata": {},
     "output_type": "execute_result"
    }
   ],
   "source": [
    "test_data_norm = scaler.fit_transform(test_data)\n",
    "test_data = pd.DataFrame(test_data_norm)\n",
    "test_data.head()"
   ]
  },
  {
   "cell_type": "code",
   "execution_count": 72,
   "metadata": {
    "collapsed": false
   },
   "outputs": [
    {
     "name": "stderr",
     "output_type": "stream",
     "text": [
      "/home/manpun/anaconda3/lib/python3.5/site-packages/sklearn/utils/class_weight.py:62: DeprecationWarning: The class_weight='auto' heuristic is deprecated in 0.17 in favor of a new heuristic class_weight='balanced'. 'auto' will be removed in 0.19\n",
      "  \" 0.19\", DeprecationWarning)\n"
     ]
    },
    {
     "data": {
      "text/plain": [
       "SVC(C=1.0, cache_size=200, class_weight='auto', coef0=0.0,\n",
       "  decision_function_shape=None, degree=3, gamma='auto', kernel='rbf',\n",
       "  max_iter=-1, probability=True, random_state=None, shrinking=True,\n",
       "  tol=0.001, verbose=False)"
      ]
     },
     "execution_count": 72,
     "metadata": {},
     "output_type": "execute_result"
    }
   ],
   "source": [
    "#Fitting with sample data\n",
    "clf.fit(X_train, Y_train_svm)"
   ]
  },
  {
   "cell_type": "code",
   "execution_count": 85,
   "metadata": {
    "collapsed": true
   },
   "outputs": [],
   "source": [
    "svm_test_sample = clf.predict(test_data)"
   ]
  },
  {
   "cell_type": "code",
   "execution_count": 88,
   "metadata": {
    "collapsed": false
   },
   "outputs": [
    {
     "data": {
      "text/plain": [
       "0.26119999999999999"
      ]
     },
     "execution_count": 88,
     "metadata": {},
     "output_type": "execute_result"
    }
   ],
   "source": [
    "svm_test_sample.mean()"
   ]
  },
  {
   "cell_type": "code",
   "execution_count": 77,
   "metadata": {
    "collapsed": false
   },
   "outputs": [
    {
     "data": {
      "text/plain": [
       "0.0"
      ]
     },
     "execution_count": 77,
     "metadata": {},
     "output_type": "execute_result"
    }
   ],
   "source": [
    "t = [x[1] for x in svm_test_sample]\n",
    "t =np.array(t)\n",
    "t = t > 0.55\n",
    "t = t.astype(int)\n",
    "t.mean()"
   ]
  },
  {
   "cell_type": "code",
   "execution_count": 84,
   "metadata": {
    "collapsed": false
   },
   "outputs": [
    {
     "data": {
      "text/html": [
       "<div>\n",
       "<table border=\"1\" class=\"dataframe\">\n",
       "  <thead>\n",
       "    <tr style=\"text-align: right;\">\n",
       "      <th></th>\n",
       "      <th>0</th>\n",
       "      <th>1</th>\n",
       "    </tr>\n",
       "  </thead>\n",
       "  <tbody>\n",
       "    <tr>\n",
       "      <th>count</th>\n",
       "      <td>10000.000000</td>\n",
       "      <td>10000.000000</td>\n",
       "    </tr>\n",
       "    <tr>\n",
       "      <th>mean</th>\n",
       "      <td>0.993968</td>\n",
       "      <td>0.006032</td>\n",
       "    </tr>\n",
       "    <tr>\n",
       "      <th>std</th>\n",
       "      <td>0.000052</td>\n",
       "      <td>0.000052</td>\n",
       "    </tr>\n",
       "    <tr>\n",
       "      <th>min</th>\n",
       "      <td>0.993823</td>\n",
       "      <td>0.005840</td>\n",
       "    </tr>\n",
       "    <tr>\n",
       "      <th>25%</th>\n",
       "      <td>0.993929</td>\n",
       "      <td>0.005997</td>\n",
       "    </tr>\n",
       "    <tr>\n",
       "      <th>50%</th>\n",
       "      <td>0.993965</td>\n",
       "      <td>0.006035</td>\n",
       "    </tr>\n",
       "    <tr>\n",
       "      <th>75%</th>\n",
       "      <td>0.994003</td>\n",
       "      <td>0.006071</td>\n",
       "    </tr>\n",
       "    <tr>\n",
       "      <th>max</th>\n",
       "      <td>0.994160</td>\n",
       "      <td>0.006177</td>\n",
       "    </tr>\n",
       "  </tbody>\n",
       "</table>\n",
       "</div>"
      ],
      "text/plain": [
       "                  0             1\n",
       "count  10000.000000  10000.000000\n",
       "mean       0.993968      0.006032\n",
       "std        0.000052      0.000052\n",
       "min        0.993823      0.005840\n",
       "25%        0.993929      0.005997\n",
       "50%        0.993965      0.006035\n",
       "75%        0.994003      0.006071\n",
       "max        0.994160      0.006177"
      ]
     },
     "execution_count": 84,
     "metadata": {},
     "output_type": "execute_result"
    }
   ],
   "source": [
    "svm_test = pd.DataFrame(svm_test_sample)\n",
    "svm_test.describe()"
   ]
  },
  {
   "cell_type": "markdown",
   "metadata": {},
   "source": [
    "Now trying this using xgboost\n"
   ]
  },
  {
   "cell_type": "code",
   "execution_count": 89,
   "metadata": {
    "collapsed": true
   },
   "outputs": [],
   "source": [
    "import xgboost as xgb"
   ]
  },
  {
   "cell_type": "code",
   "execution_count": 90,
   "metadata": {
    "collapsed": true
   },
   "outputs": [],
   "source": [
    "clf_xgb = xgb.XGBClassifier(n_estimators=200, nthread=4, max_depth = 20)"
   ]
  },
  {
   "cell_type": "code",
   "execution_count": 91,
   "metadata": {
    "collapsed": false
   },
   "outputs": [
    {
     "data": {
      "text/plain": [
       "XGBClassifier(base_score=0.5, colsample_bylevel=1, colsample_bytree=1,\n",
       "       gamma=0, learning_rate=0.1, max_delta_step=0, max_depth=20,\n",
       "       min_child_weight=1, missing=None, n_estimators=200, nthread=4,\n",
       "       objective='binary:logistic', reg_alpha=0, reg_lambda=1,\n",
       "       scale_pos_weight=1, seed=0, silent=True, subsample=1)"
      ]
     },
     "execution_count": 91,
     "metadata": {},
     "output_type": "execute_result"
    }
   ],
   "source": [
    "clf_xgb.fit(X_train_svm,Y_train_svm)"
   ]
  },
  {
   "cell_type": "code",
   "execution_count": 92,
   "metadata": {
    "collapsed": true
   },
   "outputs": [],
   "source": [
    "test_data = pd.read_csv('../bosch/test_numeric_sample.csv', usecols = columns.index)"
   ]
  },
  {
   "cell_type": "code",
   "execution_count": 93,
   "metadata": {
    "collapsed": true
   },
   "outputs": [],
   "source": [
    "results_xgb = clf_xgb.predict_proba(test_data)"
   ]
  },
  {
   "cell_type": "code",
   "execution_count": 96,
   "metadata": {
    "collapsed": false
   },
   "outputs": [],
   "source": [
    "results_xgb = pd.DataFrame(results_xgb)"
   ]
  },
  {
   "cell_type": "code",
   "execution_count": 99,
   "metadata": {
    "collapsed": false
   },
   "outputs": [
    {
     "data": {
      "text/html": [
       "<div>\n",
       "<table border=\"1\" class=\"dataframe\">\n",
       "  <thead>\n",
       "    <tr style=\"text-align: right;\">\n",
       "      <th></th>\n",
       "      <th>0</th>\n",
       "      <th>1</th>\n",
       "    </tr>\n",
       "  </thead>\n",
       "  <tbody>\n",
       "    <tr>\n",
       "      <th>count</th>\n",
       "      <td>10000.000000</td>\n",
       "      <td>10000.000000</td>\n",
       "    </tr>\n",
       "    <tr>\n",
       "      <th>mean</th>\n",
       "      <td>0.996798</td>\n",
       "      <td>0.003233</td>\n",
       "    </tr>\n",
       "    <tr>\n",
       "      <th>std</th>\n",
       "      <td>0.011739</td>\n",
       "      <td>0.011739</td>\n",
       "    </tr>\n",
       "    <tr>\n",
       "      <th>min</th>\n",
       "      <td>0.822417</td>\n",
       "      <td>0.000012</td>\n",
       "    </tr>\n",
       "    <tr>\n",
       "      <th>25%</th>\n",
       "      <td>0.998939</td>\n",
       "      <td>0.000131</td>\n",
       "    </tr>\n",
       "    <tr>\n",
       "      <th>50%</th>\n",
       "      <td>0.999682</td>\n",
       "      <td>0.000318</td>\n",
       "    </tr>\n",
       "    <tr>\n",
       "      <th>75%</th>\n",
       "      <td>0.999869</td>\n",
       "      <td>0.001061</td>\n",
       "    </tr>\n",
       "    <tr>\n",
       "      <th>max</th>\n",
       "      <td>0.999988</td>\n",
       "      <td>0.177583</td>\n",
       "    </tr>\n",
       "  </tbody>\n",
       "</table>\n",
       "</div>"
      ],
      "text/plain": [
       "                  0             1\n",
       "count  10000.000000  10000.000000\n",
       "mean       0.996798      0.003233\n",
       "std        0.011739      0.011739\n",
       "min        0.822417      0.000012\n",
       "25%        0.998939      0.000131\n",
       "50%        0.999682      0.000318\n",
       "75%        0.999869      0.001061\n",
       "max        0.999988      0.177583"
      ]
     },
     "execution_count": 99,
     "metadata": {},
     "output_type": "execute_result"
    }
   ],
   "source": [
    "results_xgb.describe()"
   ]
  },
  {
   "cell_type": "code",
   "execution_count": 100,
   "metadata": {
    "collapsed": true
   },
   "outputs": [],
   "source": [
    "results = clf_xgb.predict(test_data)"
   ]
  },
  {
   "cell_type": "code",
   "execution_count": 102,
   "metadata": {
    "collapsed": false
   },
   "outputs": [
    {
     "data": {
      "text/plain": [
       "0.0"
      ]
     },
     "execution_count": 102,
     "metadata": {},
     "output_type": "execute_result"
    }
   ],
   "source": [
    "results.mean()"
   ]
  },
  {
   "cell_type": "code",
   "execution_count": null,
   "metadata": {
    "collapsed": true
   },
   "outputs": [],
   "source": []
  }
 ],
 "metadata": {
  "anaconda-cloud": {},
  "kernelspec": {
   "display_name": "Python [Root]",
   "language": "python",
   "name": "Python [Root]"
  },
  "language_info": {
   "codemirror_mode": {
    "name": "ipython",
    "version": 3
   },
   "file_extension": ".py",
   "mimetype": "text/x-python",
   "name": "python",
   "nbconvert_exporter": "python",
   "pygments_lexer": "ipython3",
   "version": "3.5.2"
  }
 },
 "nbformat": 4,
 "nbformat_minor": 0
}
